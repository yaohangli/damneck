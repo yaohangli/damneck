{
 "cells": [
  {
   "cell_type": "markdown",
   "metadata": {},
   "source": [
    "# Localization of a single rectangle\n",
    "\n",
    "Localize a single rectange in an image\n",
    "\n",
    "The notebook program is modified based on object detection with neural networks — a simple tutorial using keras by Johannes Rieke."
   ]
  },
  {
   "cell_type": "code",
   "execution_count": 1,
   "metadata": {},
   "outputs": [],
   "source": [
    "import numpy as np\n",
    "import matplotlib.pyplot as plt\n",
    "import matplotlib\n",
    "%matplotlib inline"
   ]
  },
  {
   "cell_type": "markdown",
   "metadata": {},
   "source": [
    "### Create images with random rectangles and bounding boxes."
   ]
  },
  {
   "cell_type": "code",
   "execution_count": 2,
   "metadata": {},
   "outputs": [
    {
     "data": {
      "text/plain": [
       "((50000, 8, 8), (50000, 1, 4))"
      ]
     },
     "execution_count": 2,
     "metadata": {},
     "output_type": "execute_result"
    }
   ],
   "source": [
    "num_imgs = 50000\n",
    "\n",
    "img_size = 8\n",
    "min_object_size = 1\n",
    "max_object_size = 4\n",
    "num_objects = 1\n",
    "\n",
    "bboxes = np.zeros((num_imgs, num_objects, 4))\n",
    "imgs = np.zeros((num_imgs, img_size, img_size))  # set background to 0\n",
    "\n",
    "for i_img in range(num_imgs):\n",
    "    for i_object in range(num_objects):\n",
    "        w, h = np.random.randint(min_object_size, max_object_size, size=2)\n",
    "        x = np.random.randint(0, img_size - w)\n",
    "        y = np.random.randint(0, img_size - h)\n",
    "        imgs[i_img, x:x+w, y:y+h] = 1.  # set rectangle to 1\n",
    "        bboxes[i_img, i_object] = [x, y, w, h]\n",
    "        \n",
    "imgs.shape, bboxes.shape"
   ]
  },
  {
   "cell_type": "code",
   "execution_count": 3,
   "metadata": {},
   "outputs": [
    {
     "data": {
      "image/png": "[encoded data removed]",
      "text/plain": [
       "<Figure size 432x288 with 1 Axes>"
      ]
     },
     "metadata": {
      "needs_background": "light"
     },
     "output_type": "display_data"
    }
   ],
   "source": [
    "i = 0\n",
    "plt.imshow(imgs[i].T, cmap='Greys', interpolation='none', origin='lower', extent=[0, img_size, 0, img_size])\n",
    "plt.show()\n",
    "# for bbox in bboxes[i]:\n",
    "#     plt.gca().add_patch(matplotlib.patches.Rectangle((bbox[0], bbox[1]), bbox[2], bbox[3], ec='r', fc='none'))"
   ]
  },
  {
   "cell_type": "markdown",
   "metadata": {},
   "source": [
    "### Model Input and Output\n",
    "Input: normalized image\n",
    "Output: bounding box (bx, by, bw, bh)"
   ]
  },
  {
   "cell_type": "code",
   "execution_count": 4,
   "metadata": {},
   "outputs": [
    {
     "data": {
      "text/plain": [
       "((50000, 64), -3.2871483313101636e-17, 0.9999999999999999)"
      ]
     },
     "execution_count": 4,
     "metadata": {},
     "output_type": "execute_result"
    }
   ],
   "source": [
    "# Reshape and normalize the image data to mean 0 and std 1. \n",
    "X = (imgs.reshape(num_imgs, -1) - np.mean(imgs)) / np.std(imgs)\n",
    "X.shape, np.mean(X), np.std(X)"
   ]
  },
  {
   "cell_type": "code",
   "execution_count": 5,
   "metadata": {
    "scrolled": true
   },
   "outputs": [
    {
     "data": {
      "text/plain": [
       "((50000, 4), 0.28148625, 0.17549935131201339)"
      ]
     },
     "execution_count": 5,
     "metadata": {},
     "output_type": "execute_result"
    }
   ],
   "source": [
    "# Normalize x, y, w, h by img_size, so that all values are between 0 and 1.\n",
    "# Important: Do not shift to negative values (e.g. by setting to mean 0), because the IOU calculation needs positive w and h.\n",
    "y = bboxes.reshape(num_imgs, -1) / img_size\n",
    "y.shape, np.mean(y), np.std(y)"
   ]
  },
  {
   "cell_type": "markdown",
   "metadata": {},
   "source": [
    "### Split training and test."
   ]
  },
  {
   "cell_type": "code",
   "execution_count": 6,
   "metadata": {},
   "outputs": [],
   "source": [
    "i = int(0.8 * num_imgs)\n",
    "train_X = X[:i]\n",
    "test_X = X[i:]\n",
    "train_y = y[:i]\n",
    "test_y = y[i:]\n",
    "test_imgs = imgs[i:]\n",
    "test_bboxes = bboxes[i:]"
   ]
  },
  {
   "cell_type": "markdown",
   "metadata": {},
   "source": [
    "### Build the model."
   ]
  },
  {
   "cell_type": "code",
   "execution_count": 7,
   "metadata": {},
   "outputs": [],
   "source": [
    "\n",
    "from tensorflow.keras.models import Sequential\n",
    "from tensorflow.keras.layers import Dense, Activation, Dropout\n",
    "from tensorflow.keras.optimizers import Adam\n",
    "model = Sequential([\n",
    "        Dense(200, input_dim=X.shape[-1]), \n",
    "        Activation('relu'), \n",
    "        Dropout(0.2), \n",
    "        Dense(y.shape[-1])\n",
    "    ])\n",
    "model.compile(Adam(0.0001, beta_1=0.5), 'mse')"
   ]
  },
  {
   "cell_type": "markdown",
   "metadata": {},
   "source": [
    "### Train."
   ]
  },
  {
   "cell_type": "code",
   "execution_count": 8,
   "metadata": {},
   "outputs": [
    {
     "name": "stdout",
     "output_type": "stream",
     "text": [
      "WARNING:tensorflow:The `nb_epoch` argument in `fit` has been renamed `epochs`.\n",
      "Train on 40000 samples, validate on 10000 samples\n",
      "Epoch 1/30\n",
      "40000/40000 - 7s - loss: 0.1376 - val_loss: 0.0115\n",
      "Epoch 2/30\n",
      "40000/40000 - 3s - loss: 0.0431 - val_loss: 0.0046\n",
      "Epoch 3/30\n",
      "40000/40000 - 3s - loss: 0.0206 - val_loss: 0.0025\n",
      "Epoch 4/30\n",
      "40000/40000 - 3s - loss: 0.0110 - val_loss: 0.0016\n",
      "Epoch 5/30\n",
      "40000/40000 - 3s - loss: 0.0065 - val_loss: 9.9945e-04\n",
      "Epoch 6/30\n",
      "40000/40000 - 2s - loss: 0.0041 - val_loss: 6.4420e-04\n",
      "Epoch 7/30\n",
      "40000/40000 - 2s - loss: 0.0029 - val_loss: 4.1459e-04\n",
      "Epoch 8/30\n",
      "40000/40000 - 2s - loss: 0.0021 - val_loss: 2.7666e-04\n",
      "Epoch 9/30\n",
      "40000/40000 - 2s - loss: 0.0017 - val_loss: 1.9977e-04\n",
      "Epoch 10/30\n",
      "40000/40000 - 2s - loss: 0.0014 - val_loss: 1.5098e-04\n",
      "Epoch 11/30\n",
      "40000/40000 - 2s - loss: 0.0012 - val_loss: 1.2700e-04\n",
      "Epoch 12/30\n",
      "40000/40000 - 2s - loss: 0.0011 - val_loss: 9.7685e-05\n",
      "Epoch 13/30\n",
      "40000/40000 - 2s - loss: 0.0010 - val_loss: 8.2487e-05\n",
      "Epoch 14/30\n",
      "40000/40000 - 2s - loss: 9.5279e-04 - val_loss: 8.6265e-05\n",
      "Epoch 15/30\n",
      "40000/40000 - 2s - loss: 9.0894e-04 - val_loss: 6.9176e-05\n",
      "Epoch 16/30\n",
      "40000/40000 - 2s - loss: 8.6739e-04 - val_loss: 7.0452e-05\n",
      "Epoch 17/30\n",
      "40000/40000 - 2s - loss: 8.3188e-04 - val_loss: 5.6391e-05\n",
      "Epoch 18/30\n",
      "40000/40000 - 2s - loss: 7.9456e-04 - val_loss: 5.4454e-05\n",
      "Epoch 19/30\n",
      "40000/40000 - 2s - loss: 7.6560e-04 - val_loss: 5.2481e-05\n",
      "Epoch 20/30\n",
      "40000/40000 - 2s - loss: 7.5786e-04 - val_loss: 4.7135e-05\n",
      "Epoch 21/30\n",
      "40000/40000 - 2s - loss: 7.2723e-04 - val_loss: 4.9370e-05\n",
      "Epoch 22/30\n",
      "40000/40000 - 2s - loss: 7.1810e-04 - val_loss: 4.5052e-05\n",
      "Epoch 23/30\n",
      "40000/40000 - 2s - loss: 6.9921e-04 - val_loss: 4.7764e-05\n",
      "Epoch 24/30\n",
      "40000/40000 - 2s - loss: 6.8910e-04 - val_loss: 4.7242e-05\n",
      "Epoch 25/30\n",
      "40000/40000 - 2s - loss: 6.6931e-04 - val_loss: 4.2295e-05\n",
      "Epoch 26/30\n",
      "40000/40000 - 2s - loss: 6.5512e-04 - val_loss: 4.6137e-05\n",
      "Epoch 27/30\n",
      "40000/40000 - 2s - loss: 6.5062e-04 - val_loss: 4.3371e-05\n",
      "Epoch 28/30\n",
      "40000/40000 - 2s - loss: 6.3483e-04 - val_loss: 4.0797e-05\n",
      "Epoch 29/30\n",
      "40000/40000 - 2s - loss: 6.3062e-04 - val_loss: 3.7287e-05\n",
      "Epoch 30/30\n",
      "40000/40000 - 2s - loss: 6.2693e-04 - val_loss: 3.4727e-05\n"
     ]
    },
    {
     "data": {
      "text/plain": [
       "<tensorflow.python.keras.callbacks.History at 0x24f963224c8>"
      ]
     },
     "execution_count": 8,
     "metadata": {},
     "output_type": "execute_result"
    }
   ],
   "source": [
    "model.fit(train_X, train_y, nb_epoch=30, validation_data=(test_X, test_y), verbose=2)"
   ]
  },
  {
   "cell_type": "markdown",
   "metadata": {},
   "source": [
    "### Prediction Results"
   ]
  },
  {
   "cell_type": "code",
   "execution_count": 9,
   "metadata": {},
   "outputs": [
    {
     "data": {
      "text/plain": [
       "(10000, 1, 4)"
      ]
     },
     "execution_count": 9,
     "metadata": {},
     "output_type": "execute_result"
    }
   ],
   "source": [
    "# Predict bounding boxes on the test images.\n",
    "pred_y = model.predict(test_X)\n",
    "pred_bboxes = pred_y * img_size\n",
    "pred_bboxes = pred_bboxes.reshape(len(pred_bboxes), num_objects, -1)\n",
    "pred_bboxes.shape"
   ]
  },
  {
   "cell_type": "code",
   "execution_count": 10,
   "metadata": {},
   "outputs": [],
   "source": [
    "def IOU(bbox1, bbox2):\n",
    "    '''Calculate overlap between two bounding boxes [x, y, w, h] as the area of intersection over the area of unity'''\n",
    "    x1, y1, w1, h1 = bbox1[0], bbox1[1], bbox1[2], bbox1[3]\n",
    "    x2, y2, w2, h2 = bbox2[0], bbox2[1], bbox2[2], bbox2[3]\n",
    "\n",
    "    w_I = min(x1 + w1, x2 + w2) - max(x1, x2)\n",
    "    h_I = min(y1 + h1, y2 + h2) - max(y1, y2)\n",
    "    if w_I <= 0 or h_I <= 0:  # no overlap\n",
    "        return 0.\n",
    "    I = w_I * h_I\n",
    "\n",
    "    U = w1 * h1 + w2 * h2 - I\n",
    "\n",
    "    return I / U"
   ]
  },
  {
   "cell_type": "code",
   "execution_count": 11,
   "metadata": {},
   "outputs": [
    {
     "data": {
      "image/png": "[encoded data removed]",
      "text/plain": [
       "<Figure size 864x216 with 4 Axes>"
      ]
     },
     "metadata": {
      "needs_background": "light"
     },
     "output_type": "display_data"
    }
   ],
   "source": [
    "# Show a few images and predicted bounding boxes from the test dataset. \n",
    "plt.figure(figsize=(12, 3))\n",
    "for i_subplot in range(1, 5):\n",
    "    plt.subplot(1, 4, i_subplot)\n",
    "    i = np.random.randint(len(test_imgs))\n",
    "    plt.imshow(test_imgs[i].T, cmap='Greys', interpolation='none', origin='lower', extent=[0, img_size, 0, img_size])\n",
    "    for pred_bbox, exp_bbox in zip(pred_bboxes[i], test_bboxes[i]):\n",
    "        plt.gca().add_patch(matplotlib.patches.Rectangle((pred_bbox[0], pred_bbox[1]), pred_bbox[2], pred_bbox[3], ec='r', fc='none'))\n",
    "        plt.annotate('IOU: {:.2f}'.format(IOU(pred_bbox, exp_bbox)), (pred_bbox[0], pred_bbox[1]+pred_bbox[3]+0.2), color='r')\n",
    "        \n",
    "# plt.savefig('plots/bw-single-rectangle_prediction.png', dpi=300)"
   ]
  },
  {
   "cell_type": "code",
   "execution_count": 12,
   "metadata": {},
   "outputs": [
    {
     "data": {
      "text/plain": [
       "0.9010801208870045"
      ]
     },
     "execution_count": 12,
     "metadata": {},
     "output_type": "execute_result"
    }
   ],
   "source": [
    "# Calculate the mean IOU (overlap) between the predicted and expected bounding boxes on the test dataset. \n",
    "summed_IOU = 0.\n",
    "for pred_bbox, test_bbox in zip(pred_bboxes.reshape(-1, 4), test_bboxes.reshape(-1, 4)):\n",
    "    summed_IOU += IOU(pred_bbox, test_bbox)\n",
    "mean_IOU = summed_IOU / len(pred_bboxes)\n",
    "mean_IOU"
   ]
  }
 ],
 "metadata": {
  "kernelspec": {
   "display_name": "Python 3",
   "language": "python",
   "name": "python3"
  },
  "language_info": {
   "codemirror_mode": {
    "name": "ipython",
    "version": 3
   },
   "file_extension": ".py",
   "mimetype": "text/x-python",
   "name": "python",
   "nbconvert_exporter": "python",
   "pygments_lexer": "ipython3",
   "version": "3.7.7"
  }
 },
 "nbformat": 4,
 "nbformat_minor": 4
}
