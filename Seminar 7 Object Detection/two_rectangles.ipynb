{
 "cells": [
  {
   "cell_type": "markdown",
   "metadata": {},
   "source": [
    "# Localization of two rectangles\n",
    "\n",
    "Localization of two rectangles in a given image\n",
    "\n",
    "The notebook program is modified based on object detection with neural networks — a simple tutorial using keras by Johannes Rieke."
   ]
  },
  {
   "cell_type": "code",
   "execution_count": 1,
   "metadata": {},
   "outputs": [],
   "source": [
    "import numpy as np\n",
    "import matplotlib.pyplot as plt\n",
    "import matplotlib\n",
    "%matplotlib inline"
   ]
  },
  {
   "cell_type": "markdown",
   "metadata": {},
   "source": [
    "### Create images with random rectangles and bounding boxes. "
   ]
  },
  {
   "cell_type": "code",
   "execution_count": 2,
   "metadata": {},
   "outputs": [
    {
     "data": {
      "text/plain": [
       "((50000, 8, 8), (50000, 2, 4))"
      ]
     },
     "execution_count": 2,
     "metadata": {},
     "output_type": "execute_result"
    }
   ],
   "source": [
    "num_imgs = 50000\n",
    "\n",
    "img_size = 8\n",
    "min_rect_size = 1\n",
    "max_rect_size = 4\n",
    "num_objects = 2\n",
    "\n",
    "bboxes = np.zeros((num_imgs, num_objects, 4))\n",
    "imgs = np.zeros((num_imgs, img_size, img_size))\n",
    "\n",
    "for i_img in range(num_imgs):\n",
    "    for i_object in range(num_objects):\n",
    "        w, h = np.random.randint(min_rect_size, max_rect_size, size=2)\n",
    "        x = np.random.randint(0, img_size - w)\n",
    "        y = np.random.randint(0, img_size - h)\n",
    "        imgs[i_img, x:x+w, y:y+h] = 1.\n",
    "        bboxes[i_img, i_object] = [x, y, w, h]\n",
    "        \n",
    "imgs.shape, bboxes.shape"
   ]
  },
  {
   "cell_type": "code",
   "execution_count": 3,
   "metadata": {},
   "outputs": [
    {
     "data": {
      "image/png": "[encoded data removed]",
      "text/plain": [
       "<Figure size 864x216 with 6 Axes>"
      ]
     },
     "metadata": {
      "needs_background": "light"
     },
     "output_type": "display_data"
    }
   ],
   "source": [
    "plt.figure(figsize=(12, 3))\n",
    "for i in range(1, 7):\n",
    "    plt.subplot(1, 6, i)\n",
    "    plt.imshow(imgs[i].T, cmap='Greys', interpolation='none', origin='lower', extent=[0, img_size, 0, img_size])\n",
    "plt.show()\n",
    "# for bbox in bboxes[i]:\n",
    "#     plt.gca().add_patch(matplotlib.patches.Rectangle((bbox[0], bbox[1]), bbox[2], bbox[3], ec='r', fc='none'))"
   ]
  },
  {
   "cell_type": "markdown",
   "metadata": {},
   "source": [
    "### Model Input and Output\n",
    "Input: normalized image\n",
    "Output: bounding box (bx1, by1, bw1, bh1, bx2, by2, bw2, bh2)"
   ]
  },
  {
   "cell_type": "code",
   "execution_count": 4,
   "metadata": {},
   "outputs": [
    {
     "data": {
      "text/plain": [
       "((50000, 64), 7.79953879259665e-17, 0.9999999999999996)"
      ]
     },
     "execution_count": 4,
     "metadata": {},
     "output_type": "execute_result"
    }
   ],
   "source": [
    "# Reshape and normalize the data to mean 0 and std 1. \n",
    "X = (imgs.reshape(num_imgs, -1) - np.mean(imgs)) / np.std(imgs)\n",
    "X.shape, np.mean(X), np.std(X)"
   ]
  },
  {
   "cell_type": "code",
   "execution_count": 5,
   "metadata": {},
   "outputs": [
    {
     "data": {
      "text/plain": [
       "((50000, 8), 0.281218125, 0.1750338107951843)"
      ]
     },
     "execution_count": 5,
     "metadata": {},
     "output_type": "execute_result"
    }
   ],
   "source": [
    "# Normalize x, y, w, h by img_size, so that all values are between 0 and 1.\n",
    "# Important: Do not shift to negative values (e.g. by setting to mean 0), because the IOU calculation needs positive w and h.\n",
    "y = bboxes.reshape(num_imgs, -1) / img_size\n",
    "y.shape, np.mean(y), np.std(y)"
   ]
  },
  {
   "cell_type": "markdown",
   "metadata": {},
   "source": [
    "### Split training and test."
   ]
  },
  {
   "cell_type": "code",
   "execution_count": 6,
   "metadata": {},
   "outputs": [],
   "source": [
    "i = int(0.8 * num_imgs)\n",
    "train_X = X[:i]\n",
    "test_X = X[i:]\n",
    "train_y = y[:i]\n",
    "test_y = y[i:]\n",
    "test_imgs = imgs[i:]\n",
    "test_bboxes = bboxes[i:]"
   ]
  },
  {
   "cell_type": "markdown",
   "metadata": {},
   "source": [
    "### Build the model."
   ]
  },
  {
   "cell_type": "code",
   "execution_count": 7,
   "metadata": {},
   "outputs": [],
   "source": [
    "from tensorflow.keras.models import Sequential\n",
    "from tensorflow.keras.layers import Dense, Activation, Dropout\n",
    "from tensorflow.keras.optimizers import Adam\n",
    "model = Sequential([\n",
    "        Dense(256, input_dim=X.shape[-1]), \n",
    "        Activation('relu'), \n",
    "        Dropout(0.4), \n",
    "        Dense(y.shape[-1])\n",
    "    ])\n",
    "model.compile(Adam(0.0001, beta_1=0.5), 'mse')"
   ]
  },
  {
   "cell_type": "code",
   "execution_count": 8,
   "metadata": {},
   "outputs": [],
   "source": [
    "# Flip bboxes during training.\n",
    "# Note: The validation loss is always quite big here because we don't flip the bounding boxes for the validation data. \n",
    "def IOU(bbox1, bbox2):\n",
    "    '''Calculate overlap between two bounding boxes [x, y, w, h] as the area of intersection over the area of unity'''\n",
    "    x1, y1, w1, h1 = bbox1[0], bbox1[1], bbox1[2], bbox1[3]\n",
    "    x2, y2, w2, h2 = bbox2[0], bbox2[1], bbox2[2], bbox2[3]\n",
    "\n",
    "    w_I = min(x1 + w1, x2 + w2) - max(x1, x2)\n",
    "    h_I = min(y1 + h1, y2 + h2) - max(y1, y2)\n",
    "    if w_I <= 0 or h_I <= 0:  # no overlap\n",
    "        return 0\n",
    "    I = w_I * h_I\n",
    "\n",
    "    U = w1 * h1 + w2 * h2 - I\n",
    "\n",
    "    return I / U\n",
    "\n",
    "def distance(bbox1, bbox2):\n",
    "    return np.sqrt(np.sum(np.square(bbox1[:2] - bbox2[:2])))"
   ]
  },
  {
   "cell_type": "markdown",
   "metadata": {},
   "source": [
    "### Training without flipping"
   ]
  },
  {
   "cell_type": "code",
   "execution_count": 9,
   "metadata": {},
   "outputs": [
    {
     "name": "stdout",
     "output_type": "stream",
     "text": [
      "WARNING:tensorflow:The `nb_epoch` argument in `fit` has been renamed `epochs`.\n",
      "Train on 40000 samples, validate on 10000 samples\n",
      "Epoch 1/30\n",
      "40000/40000 - 3s - loss: 0.1965 - val_loss: 0.0362\n",
      "Epoch 2/30\n",
      "40000/40000 - 2s - loss: 0.0568 - val_loss: 0.0257\n",
      "Epoch 3/30\n",
      "40000/40000 - 2s - loss: 0.0336 - val_loss: 0.0219\n",
      "Epoch 4/30\n",
      "40000/40000 - 2s - loss: 0.0259 - val_loss: 0.0200\n",
      "Epoch 5/30\n",
      "40000/40000 - 2s - loss: 0.0225 - val_loss: 0.0190\n",
      "Epoch 6/30\n",
      "40000/40000 - 2s - loss: 0.0207 - val_loss: 0.0183\n",
      "Epoch 7/30\n",
      "40000/40000 - 2s - loss: 0.0197 - val_loss: 0.0179\n",
      "Epoch 8/30\n",
      "40000/40000 - 2s - loss: 0.0190 - val_loss: 0.0174\n",
      "Epoch 9/30\n",
      "40000/40000 - 2s - loss: 0.0185 - val_loss: 0.0172\n",
      "Epoch 10/30\n",
      "40000/40000 - 2s - loss: 0.0180 - val_loss: 0.0170\n",
      "Epoch 11/30\n",
      "40000/40000 - 2s - loss: 0.0178 - val_loss: 0.0168\n",
      "Epoch 12/30\n",
      "40000/40000 - 2s - loss: 0.0175 - val_loss: 0.0167\n",
      "Epoch 13/30\n",
      "40000/40000 - 2s - loss: 0.0173 - val_loss: 0.0165\n",
      "Epoch 14/30\n",
      "40000/40000 - 2s - loss: 0.0172 - val_loss: 0.0164\n",
      "Epoch 15/30\n",
      "40000/40000 - 2s - loss: 0.0170 - val_loss: 0.0164\n",
      "Epoch 16/30\n",
      "40000/40000 - 2s - loss: 0.0169 - val_loss: 0.0164\n",
      "Epoch 17/30\n",
      "40000/40000 - 2s - loss: 0.0168 - val_loss: 0.0163\n",
      "Epoch 18/30\n",
      "40000/40000 - 2s - loss: 0.0167 - val_loss: 0.0163\n",
      "Epoch 19/30\n",
      "40000/40000 - 2s - loss: 0.0167 - val_loss: 0.0162\n",
      "Epoch 20/30\n",
      "40000/40000 - 2s - loss: 0.0166 - val_loss: 0.0162\n",
      "Epoch 21/30\n",
      "40000/40000 - 2s - loss: 0.0166 - val_loss: 0.0162\n",
      "Epoch 22/30\n",
      "40000/40000 - 2s - loss: 0.0165 - val_loss: 0.0162\n",
      "Epoch 23/30\n",
      "40000/40000 - 2s - loss: 0.0165 - val_loss: 0.0161\n",
      "Epoch 24/30\n",
      "40000/40000 - 2s - loss: 0.0164 - val_loss: 0.0162\n",
      "Epoch 25/30\n",
      "40000/40000 - 2s - loss: 0.0164 - val_loss: 0.0161\n",
      "Epoch 26/30\n",
      "40000/40000 - 2s - loss: 0.0164 - val_loss: 0.0161\n",
      "Epoch 27/30\n",
      "40000/40000 - 2s - loss: 0.0164 - val_loss: 0.0161\n",
      "Epoch 28/30\n",
      "40000/40000 - 3s - loss: 0.0163 - val_loss: 0.0161\n",
      "Epoch 29/30\n",
      "40000/40000 - 2s - loss: 0.0163 - val_loss: 0.0161\n",
      "Epoch 30/30\n",
      "40000/40000 - 2s - loss: 0.0163 - val_loss: 0.0161\n"
     ]
    },
    {
     "data": {
      "text/plain": [
       "<tensorflow.python.keras.callbacks.History at 0x15953661088>"
      ]
     },
     "execution_count": 9,
     "metadata": {},
     "output_type": "execute_result"
    }
   ],
   "source": [
    "num_epochs = 30\n",
    "flipped_train_y = np.array(train_y)\n",
    "flipped = np.zeros((len(flipped_train_y), num_epochs))\n",
    "ious_epoch = np.zeros((len(flipped_train_y), num_epochs))\n",
    "dists_epoch = np.zeros((len(flipped_train_y), num_epochs))\n",
    "mses_epoch = np.zeros((len(flipped_train_y), num_epochs))\n",
    "\n",
    "model.fit(train_X, flipped_train_y, nb_epoch=num_epochs, validation_data=(test_X, test_y), verbose=2)\n",
    "\n",
    "\n",
    "#     for i, (pred_bboxes, exp_bboxes) in enumerate(zip(pred_y, flipped_train_y)):\n",
    "        \n",
    "#         flipped_exp_bboxes = np.concatenate([exp_bboxes[4:], exp_bboxes[:4]])\n",
    "        \n",
    "#         mse = np.mean(np.square(pred_bboxes - exp_bboxes))\n",
    "#         mse_flipped = np.mean(np.square(pred_bboxes - flipped_exp_bboxes))\n",
    "        \n",
    "#         iou = IOU(pred_bboxes[:4], exp_bboxes[:4]) + IOU(pred_bboxes[4:], exp_bboxes[4:])\n",
    "#         iou_flipped = IOU(pred_bboxes[:4], flipped_exp_bboxes[:4]) + IOU(pred_bboxes[4:], flipped_exp_bboxes[4:])\n",
    "        \n",
    "#         dist = distance(pred_bboxes[:4], exp_bboxes[:4]) + distance(pred_bboxes[4:], exp_bboxes[4:])\n",
    "#         dist_flipped = distance(pred_bboxes[:4], flipped_exp_bboxes[:4]) + distance(pred_bboxes[4:], flipped_exp_bboxes[4:])\n",
    "        \n",
    "#         if mse_flipped < mse:  # you can also use iou or dist here\n",
    "#             flipped_train_y[i] = flipped_exp_bboxes\n",
    "#             flipped[i, epoch] = 1\n",
    "#             mses_epoch[i, epoch] = mse_flipped / 2.\n",
    "#             ious_epoch[i, epoch] = iou_flipped / 2.\n",
    "#             dists_epoch[i, epoch] = dist_flipped / 2.\n",
    "#         else:\n",
    "#             mses_epoch[i, epoch] = mse / 2.\n",
    "#             ious_epoch[i, epoch] = iou / 2.\n",
    "#             dists_epoch[i, epoch] = dist / 2.\n",
    "    \n",
    "#     print('Flipped {} % of all elements'.format(np.mean(flipped[:, epoch]) * 100.))\n",
    "#     print('Mean IOU: {}'.format(np.mean(ious_epoch[:, epoch])))\n",
    "#     print('Mean dist: {}'.format(np.mean(dists_epoch[:, epoch])))\n",
    "#     print('Mean mse: {}'.format(np.mean(mses_epoch[:, epoch])))\n",
    "#     print()"
   ]
  },
  {
   "cell_type": "markdown",
   "metadata": {},
   "source": [
    "### Results of training without flipping"
   ]
  },
  {
   "cell_type": "code",
   "execution_count": 10,
   "metadata": {},
   "outputs": [
    {
     "data": {
      "text/plain": [
       "(10000, 2, 4)"
      ]
     },
     "execution_count": 10,
     "metadata": {},
     "output_type": "execute_result"
    }
   ],
   "source": [
    "# Predict bounding boxes on the test images.\n",
    "pred_y = model.predict(test_X)\n",
    "pred_bboxes = pred_y * img_size\n",
    "pred_bboxes = pred_bboxes.reshape(len(pred_bboxes), num_objects, -1)\n",
    "pred_bboxes.shape"
   ]
  },
  {
   "cell_type": "code",
   "execution_count": 11,
   "metadata": {},
   "outputs": [
    {
     "data": {
      "image/png": "[encoded data removed]",
      "text/plain": [
       "<Figure size 864x216 with 4 Axes>"
      ]
     },
     "metadata": {
      "needs_background": "light"
     },
     "output_type": "display_data"
    }
   ],
   "source": [
    "# Show a few images and predicted bounding boxes from the test dataset. \n",
    "plt.figure(figsize=(12, 3))\n",
    "for i_subplot in range(1, 5):\n",
    "    plt.subplot(1, 4, i_subplot)\n",
    "    i = np.random.randint(len(test_X))\n",
    "    plt.imshow(test_imgs[i].T, cmap='Greys', interpolation='none', origin='lower', extent=[0, img_size, 0, img_size])\n",
    "    for pred_bbox, exp_bbox in zip(pred_bboxes[i], test_bboxes[i]):\n",
    "        plt.gca().add_patch(matplotlib.patches.Rectangle((pred_bbox[0], pred_bbox[1]), pred_bbox[2], pred_bbox[3], ec='r', fc='none'))\n",
    "\n",
    "# plt.savefig('plots/bw-two-rectangles_with-flipping.png', dpi=300)"
   ]
  },
  {
   "cell_type": "markdown",
   "metadata": {},
   "source": [
    "### Training with Flipping"
   ]
  },
  {
   "cell_type": "code",
   "execution_count": 12,
   "metadata": {},
   "outputs": [
    {
     "name": "stdout",
     "output_type": "stream",
     "text": [
      "Epoch 0\n",
      "WARNING:tensorflow:The `nb_epoch` argument in `fit` has been renamed `epochs`.\n",
      "Train on 40000 samples, validate on 10000 samples\n",
      "40000/40000 - 2s - loss: 0.0163 - val_loss: 0.0161\n",
      "Flipped 42.089999999999996 % of all elements\n",
      "Mean IOU: 0.1766118363501419\n",
      "Mean dist: 0.1894799903661532\n",
      "Mean mse: 0.00699434824915678\n",
      "\n",
      "Epoch 1\n",
      "WARNING:tensorflow:The `nb_epoch` argument in `fit` has been renamed `epochs`.\n",
      "Train on 40000 samples, validate on 10000 samples\n",
      "40000/40000 - 2s - loss: 0.0138 - val_loss: 0.0176\n",
      "Flipped 17.1225 % of all elements\n",
      "Mean IOU: 0.22431194141302313\n",
      "Mean dist: 0.1592711180509486\n",
      "Mean mse: 0.005442893507689215\n",
      "\n",
      "Epoch 2\n",
      "WARNING:tensorflow:The `nb_epoch` argument in `fit` has been renamed `epochs`.\n",
      "Train on 40000 samples, validate on 10000 samples\n",
      "40000/40000 - 2s - loss: 0.0114 - val_loss: 0.0200\n",
      "Flipped 9.065 % of all elements\n",
      "Mean IOU: 0.28546079004628777\n",
      "Mean dist: 0.13210699722538216\n",
      "Mean mse: 0.0043008153705971115\n",
      "\n",
      "Epoch 3\n",
      "WARNING:tensorflow:The `nb_epoch` argument in `fit` has been renamed `epochs`.\n",
      "Train on 40000 samples, validate on 10000 samples\n",
      "40000/40000 - 2s - loss: 0.0099 - val_loss: 0.0220\n",
      "Flipped 6.59 % of all elements\n",
      "Mean IOU: 0.33596332958980635\n",
      "Mean dist: 0.11401574462132717\n",
      "Mean mse: 0.003600266977493378\n",
      "\n",
      "Epoch 4\n",
      "WARNING:tensorflow:The `nb_epoch` argument in `fit` has been renamed `epochs`.\n",
      "Train on 40000 samples, validate on 10000 samples\n",
      "40000/40000 - 2s - loss: 0.0088 - val_loss: 0.0231\n",
      "Flipped 4.390000000000001 % of all elements\n",
      "Mean IOU: 0.37771679692837984\n",
      "Mean dist: 0.10134334890062849\n",
      "Mean mse: 0.0031128338758407473\n",
      "\n",
      "Epoch 5\n",
      "WARNING:tensorflow:The `nb_epoch` argument in `fit` has been renamed `epochs`.\n",
      "Train on 40000 samples, validate on 10000 samples\n",
      "40000/40000 - 2s - loss: 0.0080 - val_loss: 0.0241\n",
      "Flipped 2.8725 % of all elements\n",
      "Mean IOU: 0.403952031555371\n",
      "Mean dist: 0.0923746759756264\n",
      "Mean mse: 0.0027658898452290917\n",
      "\n",
      "Epoch 6\n",
      "WARNING:tensorflow:The `nb_epoch` argument in `fit` has been renamed `epochs`.\n",
      "Train on 40000 samples, validate on 10000 samples\n",
      "40000/40000 - 2s - loss: 0.0074 - val_loss: 0.0248\n",
      "Flipped 2.2575000000000003 % of all elements\n",
      "Mean IOU: 0.43094831453307253\n",
      "Mean dist: 0.08534376360585001\n",
      "Mean mse: 0.0024957247190702213\n",
      "\n",
      "Epoch 7\n",
      "WARNING:tensorflow:The `nb_epoch` argument in `fit` has been renamed `epochs`.\n",
      "Train on 40000 samples, validate on 10000 samples\n",
      "40000/40000 - 2s - loss: 0.0069 - val_loss: 0.0253\n",
      "Flipped 1.955 % of all elements\n",
      "Mean IOU: 0.44951765721114734\n",
      "Mean dist: 0.07973971769767836\n",
      "Mean mse: 0.002294437701758672\n",
      "\n",
      "Epoch 8\n",
      "WARNING:tensorflow:The `nb_epoch` argument in `fit` has been renamed `epochs`.\n",
      "Train on 40000 samples, validate on 10000 samples\n",
      "40000/40000 - 2s - loss: 0.0065 - val_loss: 0.0257\n",
      "Flipped 1.5150000000000001 % of all elements\n",
      "Mean IOU: 0.46515741480818523\n",
      "Mean dist: 0.07477598165980419\n",
      "Mean mse: 0.0020976438770313405\n",
      "\n",
      "Epoch 9\n",
      "WARNING:tensorflow:The `nb_epoch` argument in `fit` has been renamed `epochs`.\n",
      "Train on 40000 samples, validate on 10000 samples\n",
      "40000/40000 - 2s - loss: 0.0062 - val_loss: 0.0259\n",
      "Flipped 1.3599999999999999 % of all elements\n",
      "Mean IOU: 0.4753632000259578\n",
      "Mean dist: 0.07211477768222976\n",
      "Mean mse: 0.0019901035614425934\n",
      "\n",
      "Epoch 10\n",
      "WARNING:tensorflow:The `nb_epoch` argument in `fit` has been renamed `epochs`.\n",
      "Train on 40000 samples, validate on 10000 samples\n",
      "40000/40000 - 2s - loss: 0.0060 - val_loss: 0.0261\n",
      "Flipped 0.9275 % of all elements\n",
      "Mean IOU: 0.48946832712692623\n",
      "Mean dist: 0.06931178388263648\n",
      "Mean mse: 0.0018982273356912493\n",
      "\n",
      "Epoch 11\n",
      "WARNING:tensorflow:The `nb_epoch` argument in `fit` has been renamed `epochs`.\n",
      "Train on 40000 samples, validate on 10000 samples\n",
      "40000/40000 - 2s - loss: 0.0058 - val_loss: 0.0261\n",
      "Flipped 0.7025 % of all elements\n",
      "Mean IOU: 0.49108210703090516\n",
      "Mean dist: 0.06815269055304433\n",
      "Mean mse: 0.0018338516749545279\n",
      "\n",
      "Epoch 12\n",
      "WARNING:tensorflow:The `nb_epoch` argument in `fit` has been renamed `epochs`.\n",
      "Train on 40000 samples, validate on 10000 samples\n",
      "40000/40000 - 2s - loss: 0.0057 - val_loss: 0.0263\n",
      "Flipped 0.6224999999999999 % of all elements\n",
      "Mean IOU: 0.5006350824575807\n",
      "Mean dist: 0.06598209549688824\n",
      "Mean mse: 0.0017646493562914877\n",
      "\n",
      "Epoch 13\n",
      "WARNING:tensorflow:The `nb_epoch` argument in `fit` has been renamed `epochs`.\n",
      "Train on 40000 samples, validate on 10000 samples\n",
      "40000/40000 - 2s - loss: 0.0056 - val_loss: 0.0267\n",
      "Flipped 0.5599999999999999 % of all elements\n",
      "Mean IOU: 0.5049867064733004\n",
      "Mean dist: 0.0647389323442021\n",
      "Mean mse: 0.0017166512684703037\n",
      "\n",
      "Epoch 14\n",
      "WARNING:tensorflow:The `nb_epoch` argument in `fit` has been renamed `epochs`.\n",
      "Train on 40000 samples, validate on 10000 samples\n",
      "40000/40000 - 2s - loss: 0.0055 - val_loss: 0.0265\n",
      "Flipped 0.5525 % of all elements\n",
      "Mean IOU: 0.513443540843624\n",
      "Mean dist: 0.06353219549767296\n",
      "Mean mse: 0.0016765151229991516\n",
      "\n",
      "Epoch 15\n",
      "WARNING:tensorflow:The `nb_epoch` argument in `fit` has been renamed `epochs`.\n",
      "Train on 40000 samples, validate on 10000 samples\n",
      "40000/40000 - 2s - loss: 0.0054 - val_loss: 0.0266\n",
      "Flipped 0.5025 % of all elements\n",
      "Mean IOU: 0.513003617049526\n",
      "Mean dist: 0.06306529120322524\n",
      "Mean mse: 0.0016508904897096386\n",
      "\n",
      "Epoch 16\n",
      "WARNING:tensorflow:The `nb_epoch` argument in `fit` has been renamed `epochs`.\n",
      "Train on 40000 samples, validate on 10000 samples\n",
      "40000/40000 - 2s - loss: 0.0053 - val_loss: 0.0269\n",
      "Flipped 0.45999999999999996 % of all elements\n",
      "Mean IOU: 0.5185843571087234\n",
      "Mean dist: 0.06180134275822709\n",
      "Mean mse: 0.0016119918196650304\n",
      "\n",
      "Epoch 17\n",
      "WARNING:tensorflow:The `nb_epoch` argument in `fit` has been renamed `epochs`.\n",
      "Train on 40000 samples, validate on 10000 samples\n",
      "40000/40000 - 2s - loss: 0.0053 - val_loss: 0.0267\n",
      "Flipped 0.3675 % of all elements\n",
      "Mean IOU: 0.5225444264254611\n",
      "Mean dist: 0.06076457585684765\n",
      "Mean mse: 0.001583080640880373\n",
      "\n",
      "Epoch 18\n",
      "WARNING:tensorflow:The `nb_epoch` argument in `fit` has been renamed `epochs`.\n",
      "Train on 40000 samples, validate on 10000 samples\n",
      "40000/40000 - 2s - loss: 0.0052 - val_loss: 0.0268\n",
      "Flipped 0.4325 % of all elements\n",
      "Mean IOU: 0.5251658453738465\n",
      "Mean dist: 0.06015836585866542\n",
      "Mean mse: 0.001552239238342824\n",
      "\n",
      "Epoch 19\n",
      "WARNING:tensorflow:The `nb_epoch` argument in `fit` has been renamed `epochs`.\n",
      "Train on 40000 samples, validate on 10000 samples\n",
      "40000/40000 - 2s - loss: 0.0052 - val_loss: 0.0267\n",
      "Flipped 0.5725 % of all elements\n",
      "Mean IOU: 0.5233796782183429\n",
      "Mean dist: 0.060486218093912456\n",
      "Mean mse: 0.0015553344990963118\n",
      "\n",
      "Epoch 20\n",
      "WARNING:tensorflow:The `nb_epoch` argument in `fit` has been renamed `epochs`.\n",
      "Train on 40000 samples, validate on 10000 samples\n",
      "40000/40000 - 2s - loss: 0.0051 - val_loss: 0.0269\n",
      "Flipped 0.5775 % of all elements\n",
      "Mean IOU: 0.5320695861651802\n",
      "Mean dist: 0.058745505631975926\n",
      "Mean mse: 0.0015108203436421466\n",
      "\n",
      "Epoch 21\n",
      "WARNING:tensorflow:The `nb_epoch` argument in `fit` has been renamed `epochs`.\n",
      "Train on 40000 samples, validate on 10000 samples\n",
      "40000/40000 - 2s - loss: 0.0051 - val_loss: 0.0267\n",
      "Flipped 0.5175 % of all elements\n",
      "Mean IOU: 0.530803899419524\n",
      "Mean dist: 0.058441684356522125\n",
      "Mean mse: 0.0014936114860698304\n",
      "\n",
      "Epoch 22\n",
      "WARNING:tensorflow:The `nb_epoch` argument in `fit` has been renamed `epochs`.\n",
      "Train on 40000 samples, validate on 10000 samples\n",
      "40000/40000 - 2s - loss: 0.0050 - val_loss: 0.0270\n",
      "Flipped 0.4175 % of all elements\n",
      "Mean IOU: 0.5388872181955878\n",
      "Mean dist: 0.05755278411322074\n",
      "Mean mse: 0.0014705088791164957\n",
      "\n",
      "Epoch 23\n",
      "WARNING:tensorflow:The `nb_epoch` argument in `fit` has been renamed `epochs`.\n",
      "Train on 40000 samples, validate on 10000 samples\n",
      "40000/40000 - 2s - loss: 0.0050 - val_loss: 0.0270\n",
      "Flipped 0.385 % of all elements\n",
      "Mean IOU: 0.5350594891801688\n",
      "Mean dist: 0.05770440680494036\n",
      "Mean mse: 0.001465684995135041\n",
      "\n",
      "Epoch 24\n",
      "WARNING:tensorflow:The `nb_epoch` argument in `fit` has been renamed `epochs`.\n",
      "Train on 40000 samples, validate on 10000 samples\n",
      "40000/40000 - 2s - loss: 0.0049 - val_loss: 0.0270\n",
      "Flipped 0.4675 % of all elements\n",
      "Mean IOU: 0.5408438985685967\n",
      "Mean dist: 0.056900459185298735\n",
      "Mean mse: 0.0014427492068206447\n",
      "\n",
      "Epoch 25\n",
      "WARNING:tensorflow:The `nb_epoch` argument in `fit` has been renamed `epochs`.\n",
      "Train on 40000 samples, validate on 10000 samples\n",
      "40000/40000 - 2s - loss: 0.0049 - val_loss: 0.0272\n",
      "Flipped 0.4475 % of all elements\n",
      "Mean IOU: 0.5445455060144733\n",
      "Mean dist: 0.056001899810079456\n",
      "Mean mse: 0.0014208777313572982\n",
      "\n",
      "Epoch 26\n",
      "WARNING:tensorflow:The `nb_epoch` argument in `fit` has been renamed `epochs`.\n"
     ]
    },
    {
     "name": "stdout",
     "output_type": "stream",
     "text": [
      "Train on 40000 samples, validate on 10000 samples\n",
      "40000/40000 - 2s - loss: 0.0049 - val_loss: 0.0270\n",
      "Flipped 0.4575 % of all elements\n",
      "Mean IOU: 0.5441900941948147\n",
      "Mean dist: 0.055843278083214286\n",
      "Mean mse: 0.0014027309568809265\n",
      "\n",
      "Epoch 27\n",
      "WARNING:tensorflow:The `nb_epoch` argument in `fit` has been renamed `epochs`.\n",
      "Train on 40000 samples, validate on 10000 samples\n",
      "40000/40000 - 2s - loss: 0.0048 - val_loss: 0.0272\n",
      "Flipped 0.3875 % of all elements\n",
      "Mean IOU: 0.5449334748608083\n",
      "Mean dist: 0.05576642630364876\n",
      "Mean mse: 0.001400631396653385\n",
      "\n",
      "Epoch 28\n",
      "WARNING:tensorflow:The `nb_epoch` argument in `fit` has been renamed `epochs`.\n",
      "Train on 40000 samples, validate on 10000 samples\n",
      "40000/40000 - 2s - loss: 0.0048 - val_loss: 0.0271\n",
      "Flipped 0.475 % of all elements\n",
      "Mean IOU: 0.5491012312639744\n",
      "Mean dist: 0.05521039722591471\n",
      "Mean mse: 0.0013792712165849545\n",
      "\n",
      "Epoch 29\n",
      "WARNING:tensorflow:The `nb_epoch` argument in `fit` has been renamed `epochs`.\n",
      "Train on 40000 samples, validate on 10000 samples\n",
      "40000/40000 - 2s - loss: 0.0048 - val_loss: 0.0274\n",
      "Flipped 0.41250000000000003 % of all elements\n",
      "Mean IOU: 0.5492368570637863\n",
      "Mean dist: 0.05472830885599281\n",
      "Mean mse: 0.0013717838361254828\n",
      "\n"
     ]
    }
   ],
   "source": [
    "num_epochs = 30\n",
    "flipped_train_y = np.array(train_y)\n",
    "flipped = np.zeros((len(flipped_train_y), num_epochs))\n",
    "ious_epoch = np.zeros((len(flipped_train_y), num_epochs))\n",
    "dists_epoch = np.zeros((len(flipped_train_y), num_epochs))\n",
    "mses_epoch = np.zeros((len(flipped_train_y), num_epochs))\n",
    "\n",
    "for epoch in range(num_epochs):\n",
    "    print('Epoch', epoch)\n",
    "    model.fit(train_X, flipped_train_y, nb_epoch=1, validation_data=(test_X, test_y), verbose=2)\n",
    "    pred_y = model.predict(train_X)\n",
    "\n",
    "    for i, (pred_bboxes, exp_bboxes) in enumerate(zip(pred_y, flipped_train_y)):\n",
    "        \n",
    "        flipped_exp_bboxes = np.concatenate([exp_bboxes[4:], exp_bboxes[:4]])\n",
    "        \n",
    "        mse = np.mean(np.square(pred_bboxes - exp_bboxes))\n",
    "        mse_flipped = np.mean(np.square(pred_bboxes - flipped_exp_bboxes))\n",
    "        \n",
    "        iou = IOU(pred_bboxes[:4], exp_bboxes[:4]) + IOU(pred_bboxes[4:], exp_bboxes[4:])\n",
    "        iou_flipped = IOU(pred_bboxes[:4], flipped_exp_bboxes[:4]) + IOU(pred_bboxes[4:], flipped_exp_bboxes[4:])\n",
    "        \n",
    "        dist = distance(pred_bboxes[:4], exp_bboxes[:4]) + distance(pred_bboxes[4:], exp_bboxes[4:])\n",
    "        dist_flipped = distance(pred_bboxes[:4], flipped_exp_bboxes[:4]) + distance(pred_bboxes[4:], flipped_exp_bboxes[4:])\n",
    "        \n",
    "        if mse_flipped < mse:  # you can also use iou or dist here\n",
    "            flipped_train_y[i] = flipped_exp_bboxes\n",
    "            flipped[i, epoch] = 1\n",
    "            mses_epoch[i, epoch] = mse_flipped / 2.\n",
    "            ious_epoch[i, epoch] = iou_flipped / 2.\n",
    "            dists_epoch[i, epoch] = dist_flipped / 2.\n",
    "        else:\n",
    "            mses_epoch[i, epoch] = mse / 2.\n",
    "            ious_epoch[i, epoch] = iou / 2.\n",
    "            dists_epoch[i, epoch] = dist / 2.\n",
    "    \n",
    "    print('Flipped {} % of all elements'.format(np.mean(flipped[:, epoch]) * 100.))\n",
    "    print('Mean IOU: {}'.format(np.mean(ious_epoch[:, epoch])))\n",
    "    print('Mean dist: {}'.format(np.mean(dists_epoch[:, epoch])))\n",
    "    print('Mean mse: {}'.format(np.mean(mses_epoch[:, epoch])))\n",
    "    print()"
   ]
  },
  {
   "cell_type": "markdown",
   "metadata": {},
   "source": [
    "### Results of training with flipping"
   ]
  },
  {
   "cell_type": "code",
   "execution_count": 13,
   "metadata": {},
   "outputs": [
    {
     "data": {
      "image/png": "[encoded data removed]",
      "text/plain": [
       "<Figure size 432x288 with 1 Axes>"
      ]
     },
     "metadata": {
      "needs_background": "light"
     },
     "output_type": "display_data"
    }
   ],
   "source": [
    "# Show flippings for a few training samples.\n",
    "plt.pcolor(flipped[:300], cmap='Greys')\n",
    "plt.xlabel('Epoch')\n",
    "plt.ylabel('Training sample')\n",
    "plt.show()\n",
    "\n",
    "# plt.savefig('plots/bw-two-rectangles_flips.png', dpi=300)"
   ]
  },
  {
   "cell_type": "code",
   "execution_count": 14,
   "metadata": {},
   "outputs": [
    {
     "data": {
      "text/plain": [
       "(0, 1)"
      ]
     },
     "execution_count": 14,
     "metadata": {},
     "output_type": "execute_result"
    },
    {
     "data": {
      "image/png": "[encoded data removed]",
      "text/plain": [
       "<Figure size 432x288 with 1 Axes>"
      ]
     },
     "metadata": {
      "needs_background": "light"
     },
     "output_type": "display_data"
    }
   ],
   "source": [
    "# Plot metrics on the training data. \n",
    "mean_ious_epoch = np.mean(ious_epoch, axis=0)\n",
    "mean_dists_epoch = np.mean(dists_epoch, axis=0)\n",
    "mean_mses_epoch = np.mean(mses_epoch, axis=0)\n",
    "plt.plot(mean_ious_epoch, label='Mean IOU')  # between predicted and assigned true bboxes\n",
    "plt.plot(mean_dists_epoch, label='Mean distance')  # relative to image size\n",
    "plt.plot(mean_mses_epoch, label='Mean mse')\n",
    "plt.annotate(np.round(np.max(mean_ious_epoch), 3), (len(mean_ious_epoch)-1, mean_ious_epoch[-1]+0.03), horizontalalignment='right', color='b')\n",
    "plt.annotate(np.round(np.min(mean_dists_epoch), 3), (len(mean_dists_epoch)-1, mean_dists_epoch[-1]+0.03), horizontalalignment='right', color='g')\n",
    "plt.annotate(np.round(np.min(mean_mses_epoch), 3), (len(mean_mses_epoch)-1, mean_mses_epoch[-1]+0.03), horizontalalignment='right', color='r')\n",
    "\n",
    "plt.legend()\n",
    "plt.ylim(0, 1)"
   ]
  },
  {
   "cell_type": "code",
   "execution_count": 15,
   "metadata": {},
   "outputs": [
    {
     "data": {
      "text/plain": [
       "(10000, 2, 4)"
      ]
     },
     "execution_count": 15,
     "metadata": {},
     "output_type": "execute_result"
    }
   ],
   "source": [
    "# Predict bounding boxes on the test images.\n",
    "pred_y = model.predict(test_X)\n",
    "pred_bboxes = pred_y * img_size\n",
    "pred_bboxes = pred_bboxes.reshape(len(pred_bboxes), num_objects, -1)\n",
    "pred_bboxes.shape"
   ]
  },
  {
   "cell_type": "code",
   "execution_count": 16,
   "metadata": {},
   "outputs": [
    {
     "data": {
      "image/png": "[encoded data removed]",
      "text/plain": [
       "<Figure size 864x216 with 4 Axes>"
      ]
     },
     "metadata": {
      "needs_background": "light"
     },
     "output_type": "display_data"
    }
   ],
   "source": [
    "# Show a few images and predicted bounding boxes from the test dataset. \n",
    "plt.figure(figsize=(12, 3))\n",
    "for i_subplot in range(1, 5):\n",
    "    plt.subplot(1, 4, i_subplot)\n",
    "    i = np.random.randint(len(test_X))\n",
    "    plt.imshow(test_imgs[i].T, cmap='Greys', interpolation='none', origin='lower', extent=[0, img_size, 0, img_size])\n",
    "    for pred_bbox, exp_bbox in zip(pred_bboxes[i], test_bboxes[i]):\n",
    "        plt.gca().add_patch(matplotlib.patches.Rectangle((pred_bbox[0], pred_bbox[1]), pred_bbox[2], pred_bbox[3], ec='r', fc='none'))\n",
    "\n",
    "# plt.savefig('plots/bw-two-rectangles_with-flipping.png', dpi=300)"
   ]
  },
  {
   "cell_type": "code",
   "execution_count": null,
   "metadata": {},
   "outputs": [],
   "source": []
  }
 ],
 "metadata": {
  "kernelspec": {
   "display_name": "Python 3",
   "language": "python",
   "name": "python3"
  },
  "language_info": {
   "codemirror_mode": {
    "name": "ipython",
    "version": 3
   },
   "file_extension": ".py",
   "mimetype": "text/x-python",
   "name": "python",
   "nbconvert_exporter": "python",
   "pygments_lexer": "ipython3",
   "version": "3.7.7"
  }
 },
 "nbformat": 4,
 "nbformat_minor": 4
}
