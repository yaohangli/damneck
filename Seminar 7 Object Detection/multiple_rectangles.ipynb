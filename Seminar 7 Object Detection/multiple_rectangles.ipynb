{
 "cells": [
  {
   "cell_type": "markdown",
   "metadata": {},
   "source": [
    "### Localization of multiple rectangles\n",
    "Localization of multiple rectangles in a given image\n",
    "\n",
    "The notebook program is modified based on object detection with neural networks — a simple tutorial using keras by Johannes Rieke."
   ]
  },
  {
   "cell_type": "code",
   "execution_count": 1,
   "metadata": {},
   "outputs": [],
   "source": [
    "import numpy as np\n",
    "import matplotlib.pyplot as plt\n",
    "import matplotlib\n",
    "%matplotlib inline"
   ]
  },
  {
   "cell_type": "code",
   "execution_count": 2,
   "metadata": {},
   "outputs": [],
   "source": [
    "# Flip bboxes during training.\n",
    "# Note: The validation loss is always quite big here because we don't flip the bounding boxes for the validation data. \n",
    "def IOU(bbox1, bbox2):\n",
    "    '''Calculate overlap between two bounding boxes [x, y, w, h] as the area of intersection over the area of unity'''\n",
    "    x1, y1, w1, h1 = bbox1[0], bbox1[1], bbox1[2], bbox1[3]  # TODO: Check if its more performant if tensor elements are accessed directly below.\n",
    "    x2, y2, w2, h2 = bbox2[0], bbox2[1], bbox2[2], bbox2[3]\n",
    "\n",
    "    w_I = min(x1 + w1, x2 + w2) - max(x1, x2)\n",
    "    h_I = min(y1 + h1, y2 + h2) - max(y1, y2)\n",
    "    if w_I <= 0 or h_I <= 0:  # no overlap\n",
    "        return 0\n",
    "    I = w_I * h_I\n",
    "\n",
    "    U = w1 * h1 + w2 * h2 - I\n",
    "\n",
    "    return I / U"
   ]
  },
  {
   "cell_type": "markdown",
   "metadata": {},
   "source": [
    "### Create images with random rectangles and bounding boxes. "
   ]
  },
  {
   "cell_type": "code",
   "execution_count": 3,
   "metadata": {},
   "outputs": [
    {
     "data": {
      "text/plain": [
       "((50000, 8, 8), (50000, 3, 4))"
      ]
     },
     "execution_count": 3,
     "metadata": {},
     "output_type": "execute_result"
    }
   ],
   "source": [
    "num_imgs = 50000\n",
    "\n",
    "img_size = 8\n",
    "min_rect_size = 1\n",
    "max_rect_size = 4\n",
    "num_objects = 3\n",
    "\n",
    "bboxes = np.zeros((num_imgs, num_objects, 4))\n",
    "imgs = np.zeros((num_imgs, img_size, img_size))\n",
    "\n",
    "for i_img in range(num_imgs):\n",
    "#     for i_object in range(num_objects):\n",
    "#         width, height = np.random.randint(min_rect_size, max_rect_size, size=2)\n",
    "#         x = np.random.randint(0, img_size - width)\n",
    "#         y = np.random.randint(0, img_size - height)\n",
    "#         imgs[i_img, x:x+width, y:y+height] = 1.\n",
    "#         bboxes[i_img, i_object] = [x, y, width, height]\n",
    "        \n",
    "        \n",
    "#     Prevent overlap between rectangles.\n",
    "#     Makes results (i.e. mean IOU) slightly worse; probably because the shapes are smaller \n",
    "#     (i.e. they are harder to recognize and capture within a bbox) \n",
    "#     and further apart (i.e. the algorithm can't set all bboxes to the same location to get a good IOU).    \n",
    "    i_object = 0\n",
    "    while i_object < num_objects:\n",
    "        width, height = np.random.randint(min_rect_size, max_rect_size, size=2)\n",
    "        x = np.random.randint(0, img_size - width)\n",
    "        y = np.random.randint(0, img_size - height)\n",
    "        overlap = False        \n",
    "#         print 'Creating object', i_object, '- checking', len(bboxes[i_img, :i_object]), 'bboxes for overlap',\n",
    "        for bbox in bboxes[i_img, :i_object]:  # TODO: Check if this includes all bboxes.\n",
    "            overlap = bool(IOU(bbox, [x-1, y-1, width+2, height+2]))  # at least one free field between objects\n",
    "            if overlap: \n",
    "#                 print '--> Found overlap'\n",
    "                break\n",
    "        if not overlap:\n",
    "            imgs[i_img, x:x+width, y:y+height] = 1.\n",
    "            bboxes[i_img, i_object] = [x, y, width, height]\n",
    "            i_object += 1\n",
    "#             print '--> Found no overlap'\n",
    "#     print\n",
    "        \n",
    "imgs.shape, bboxes.shape"
   ]
  },
  {
   "cell_type": "code",
   "execution_count": 4,
   "metadata": {},
   "outputs": [
    {
     "data": {
      "image/png": "[encoded data removed]",
      "text/plain": [
       "<Figure size 864x216 with 6 Axes>"
      ]
     },
     "metadata": {
      "needs_background": "light"
     },
     "output_type": "display_data"
    }
   ],
   "source": [
    "plt.figure(figsize=(12, 3))\n",
    "for i in range(1, 7):\n",
    "    plt.subplot(1, 6, i)\n",
    "    plt.imshow(imgs[i].T, cmap='Greys', interpolation='none', origin='lower', extent=[0, img_size, 0, img_size])\n",
    "plt.show()\n",
    "# for bbox in bboxes[i]:\n",
    "#     plt.gca().add_patch(matplotlib.patches.Rectangle((bbox[0], bbox[1]), bbox[2], bbox[3], ec='r', fc='none'))"
   ]
  },
  {
   "cell_type": "markdown",
   "metadata": {},
   "source": [
    "### Model Input and Output\n",
    "Input: normalized image\n",
    "Output: bounding box (bx1, by1, bw1, bh1, bx2, by2, bw2, bh2, bx3, by3, bw3, bh3)"
   ]
  },
  {
   "cell_type": "code",
   "execution_count": 5,
   "metadata": {},
   "outputs": [
    {
     "data": {
      "text/plain": [
       "((50000, 64), -7.194245199571014e-18, 1.0000000000000002)"
      ]
     },
     "execution_count": 5,
     "metadata": {},
     "output_type": "execute_result"
    }
   ],
   "source": [
    "X = (imgs.reshape(num_imgs, -1) - np.mean(imgs)) / np.std(imgs)\n",
    "X.shape, np.mean(X), np.std(X)"
   ]
  },
  {
   "cell_type": "code",
   "execution_count": 6,
   "metadata": {},
   "outputs": [
    {
     "data": {
      "text/plain": [
       "(50000, 12)"
      ]
     },
     "execution_count": 6,
     "metadata": {},
     "output_type": "execute_result"
    }
   ],
   "source": [
    "y = bboxes.reshape(num_imgs, -1) / img_size\n",
    "y.shape"
   ]
  },
  {
   "cell_type": "markdown",
   "metadata": {},
   "source": [
    "### Split training and test."
   ]
  },
  {
   "cell_type": "code",
   "execution_count": 7,
   "metadata": {},
   "outputs": [],
   "source": [
    "i = int(0.8 * num_imgs)\n",
    "train_X = X[:i]\n",
    "test_X = X[i:]\n",
    "train_y = y[:i]\n",
    "test_y = y[i:]\n",
    "test_imgs = imgs[i:]\n",
    "test_bboxes = bboxes[i:]"
   ]
  },
  {
   "cell_type": "markdown",
   "metadata": {},
   "source": [
    "### Build the model."
   ]
  },
  {
   "cell_type": "code",
   "execution_count": 8,
   "metadata": {},
   "outputs": [],
   "source": [
    "from tensorflow.keras.models import Sequential\n",
    "from tensorflow.keras.layers import Dense, Activation, Dropout\n",
    "from tensorflow.keras.optimizers import Adam\n",
    "model = Sequential([\n",
    "        Dense(256, input_dim=X.shape[-1]), \n",
    "        Activation('relu'), \n",
    "        Dropout(0.5), \n",
    "        Dense(256),\n",
    "        Activation('relu'),\n",
    "        Dropout(0.5),\n",
    "        Dense(y.shape[-1])\n",
    "    ])\n",
    "model.compile(Adam(0.0001, beta_1=0.5), 'mse')"
   ]
  },
  {
   "cell_type": "code",
   "execution_count": 9,
   "metadata": {},
   "outputs": [],
   "source": [
    "def distance(bbox1, bbox2):\n",
    "    return np.sqrt(np.sum(np.square(bbox1[:2] - bbox2[:2])))"
   ]
  },
  {
   "cell_type": "markdown",
   "metadata": {},
   "source": [
    "### Train with flipping\n",
    "Need to find the best match"
   ]
  },
  {
   "cell_type": "code",
   "execution_count": 10,
   "metadata": {},
   "outputs": [
    {
     "name": "stdout",
     "output_type": "stream",
     "text": [
      "Epoch 0\n",
      "WARNING:tensorflow:The `nb_epoch` argument in `fit` has been renamed `epochs`.\n",
      "Train on 40000 samples, validate on 10000 samples\n",
      "40000/40000 - 3s - loss: 0.1542 - val_loss: 0.0563\n",
      "Flipped 66.1375 % of all elements\n",
      "Mean IOU: 0.02811203080521649\n",
      "Mean dist: 0.36940507114542614\n",
      "Mean mse: 0.05557765065028564\n",
      "\n",
      "Epoch 1\n",
      "WARNING:tensorflow:The `nb_epoch` argument in `fit` has been renamed `epochs`.\n",
      "Train on 40000 samples, validate on 10000 samples\n",
      "40000/40000 - 2s - loss: 0.0478 - val_loss: 0.0438\n",
      "Flipped 50.93000000000001 % of all elements\n",
      "Mean IOU: 0.043348286627813426\n",
      "Mean dist: 0.31960681131713525\n",
      "Mean mse: 0.040170613251413634\n",
      "\n",
      "Epoch 2\n",
      "WARNING:tensorflow:The `nb_epoch` argument in `fit` has been renamed `epochs`.\n",
      "Train on 40000 samples, validate on 10000 samples\n",
      "40000/40000 - 2s - loss: 0.0336 - val_loss: 0.0401\n",
      "Flipped 18.53166666666667 % of all elements\n",
      "Mean IOU: 0.08419133583527497\n",
      "Mean dist: 0.26123713838218493\n",
      "Mean mse: 0.028974234492429064\n",
      "\n",
      "Epoch 3\n",
      "WARNING:tensorflow:The `nb_epoch` argument in `fit` has been renamed `epochs`.\n",
      "Train on 40000 samples, validate on 10000 samples\n",
      "40000/40000 - 2s - loss: 0.0262 - val_loss: 0.0398\n",
      "Flipped 9.155000000000001 % of all elements\n",
      "Mean IOU: 0.12374700549424598\n",
      "Mean dist: 0.2228744411297363\n",
      "Mean mse: 0.022470964791748683\n",
      "\n",
      "Epoch 4\n",
      "WARNING:tensorflow:The `nb_epoch` argument in `fit` has been renamed `epochs`.\n",
      "Train on 40000 samples, validate on 10000 samples\n",
      "40000/40000 - 2s - loss: 0.0223 - val_loss: 0.0408\n",
      "Flipped 6.2524999999999995 % of all elements\n",
      "Mean IOU: 0.15592570049762886\n",
      "Mean dist: 0.19673442154316712\n",
      "Mean mse: 0.018636944016155524\n",
      "\n",
      "Epoch 5\n",
      "WARNING:tensorflow:The `nb_epoch` argument in `fit` has been renamed `epochs`.\n",
      "Train on 40000 samples, validate on 10000 samples\n",
      "40000/40000 - 2s - loss: 0.0196 - val_loss: 0.0417\n",
      "Flipped 4.1625000000000005 % of all elements\n",
      "Mean IOU: 0.18063297685885227\n",
      "Mean dist: 0.17872877729635592\n",
      "Mean mse: 0.01625614544148038\n",
      "\n",
      "Epoch 6\n",
      "WARNING:tensorflow:The `nb_epoch` argument in `fit` has been renamed `epochs`.\n",
      "Train on 40000 samples, validate on 10000 samples\n",
      "40000/40000 - 2s - loss: 0.0177 - val_loss: 0.0425\n",
      "Flipped 2.7633333333333336 % of all elements\n",
      "Mean IOU: 0.20307915693836487\n",
      "Mean dist: 0.1645265627510524\n",
      "Mean mse: 0.01449758444310786\n",
      "\n",
      "Epoch 7\n",
      "WARNING:tensorflow:The `nb_epoch` argument in `fit` has been renamed `epochs`.\n",
      "Train on 40000 samples, validate on 10000 samples\n",
      "40000/40000 - 2s - loss: 0.0163 - val_loss: 0.0435\n",
      "Flipped 2.2608333333333337 % of all elements\n",
      "Mean IOU: 0.22405143133305147\n",
      "Mean dist: 0.15152628472981985\n",
      "Mean mse: 0.012995580685637213\n",
      "\n",
      "Epoch 8\n",
      "WARNING:tensorflow:The `nb_epoch` argument in `fit` has been renamed `epochs`.\n",
      "Train on 40000 samples, validate on 10000 samples\n",
      "40000/40000 - 3s - loss: 0.0151 - val_loss: 0.0442\n",
      "Flipped 1.7608333333333337 % of all elements\n",
      "Mean IOU: 0.24214390287368542\n",
      "Mean dist: 0.1420681093982415\n",
      "Mean mse: 0.011934543758417331\n",
      "\n",
      "Epoch 9\n",
      "WARNING:tensorflow:The `nb_epoch` argument in `fit` has been renamed `epochs`.\n",
      "Train on 40000 samples, validate on 10000 samples\n",
      "40000/40000 - 2s - loss: 0.0142 - val_loss: 0.0445\n",
      "Flipped 1.4575 % of all elements\n",
      "Mean IOU: 0.25362695163355964\n",
      "Mean dist: 0.13579401300243504\n",
      "Mean mse: 0.011223178631543797\n",
      "\n",
      "Epoch 10\n",
      "WARNING:tensorflow:The `nb_epoch` argument in `fit` has been renamed `epochs`.\n",
      "Train on 40000 samples, validate on 10000 samples\n",
      "40000/40000 - 2s - loss: 0.0134 - val_loss: 0.0446\n",
      "Flipped 1.0716666666666668 % of all elements\n",
      "Mean IOU: 0.26387711312435286\n",
      "Mean dist: 0.13100072831373397\n",
      "Mean mse: 0.010636371203888231\n",
      "\n",
      "Epoch 11\n",
      "WARNING:tensorflow:The `nb_epoch` argument in `fit` has been renamed `epochs`.\n",
      "Train on 40000 samples, validate on 10000 samples\n",
      "40000/40000 - 2s - loss: 0.0128 - val_loss: 0.0449\n",
      "Flipped 1.0583333333333333 % of all elements\n",
      "Mean IOU: 0.2770786185971087\n",
      "Mean dist: 0.12489636014949988\n",
      "Mean mse: 0.009959835734435726\n",
      "\n",
      "Epoch 12\n",
      "WARNING:tensorflow:The `nb_epoch` argument in `fit` has been renamed `epochs`.\n",
      "Train on 40000 samples, validate on 10000 samples\n",
      "40000/40000 - 2s - loss: 0.0122 - val_loss: 0.0450\n",
      "Flipped 0.8258333333333333 % of all elements\n",
      "Mean IOU: 0.28691665563172314\n",
      "Mean dist: 0.12072140620699572\n",
      "Mean mse: 0.009459956876917405\n",
      "\n",
      "Epoch 13\n",
      "WARNING:tensorflow:The `nb_epoch` argument in `fit` has been renamed `epochs`.\n",
      "Train on 40000 samples, validate on 10000 samples\n",
      "40000/40000 - 2s - loss: 0.0117 - val_loss: 0.0452\n",
      "Flipped 0.8100000000000002 % of all elements\n",
      "Mean IOU: 0.29956077190777414\n",
      "Mean dist: 0.11558051618514116\n",
      "Mean mse: 0.008917755998375018\n",
      "\n",
      "Epoch 14\n",
      "WARNING:tensorflow:The `nb_epoch` argument in `fit` has been renamed `epochs`.\n",
      "Train on 40000 samples, validate on 10000 samples\n",
      "40000/40000 - 2s - loss: 0.0113 - val_loss: 0.0454\n",
      "Flipped 0.7833333333333334 % of all elements\n",
      "Mean IOU: 0.3133872043382821\n",
      "Mean dist: 0.11039221199271372\n",
      "Mean mse: 0.008395287279438933\n",
      "\n",
      "Epoch 15\n",
      "WARNING:tensorflow:The `nb_epoch` argument in `fit` has been renamed `epochs`.\n",
      "Train on 40000 samples, validate on 10000 samples\n",
      "40000/40000 - 2s - loss: 0.0108 - val_loss: 0.0454\n",
      "Flipped 0.5883333333333334 % of all elements\n",
      "Mean IOU: 0.31643205848358114\n",
      "Mean dist: 0.10893340775061561\n",
      "Mean mse: 0.008170109326324563\n",
      "\n",
      "Epoch 16\n",
      "WARNING:tensorflow:The `nb_epoch` argument in `fit` has been renamed `epochs`.\n",
      "Train on 40000 samples, validate on 10000 samples\n",
      "40000/40000 - 2s - loss: 0.0105 - val_loss: 0.0459\n",
      "Flipped 0.6541666666666667 % of all elements\n",
      "Mean IOU: 0.3308406187876901\n",
      "Mean dist: 0.1040707464197264\n",
      "Mean mse: 0.007703963717296278\n",
      "\n",
      "Epoch 17\n",
      "WARNING:tensorflow:The `nb_epoch` argument in `fit` has been renamed `epochs`.\n",
      "Train on 40000 samples, validate on 10000 samples\n",
      "40000/40000 - 2s - loss: 0.0101 - val_loss: 0.0459\n",
      "Flipped 0.5891666666666667 % of all elements\n",
      "Mean IOU: 0.3384491473546853\n",
      "Mean dist: 0.10080808060376685\n",
      "Mean mse: 0.007343419550059703\n",
      "\n",
      "Epoch 18\n",
      "WARNING:tensorflow:The `nb_epoch` argument in `fit` has been renamed `epochs`.\n",
      "Train on 40000 samples, validate on 10000 samples\n",
      "40000/40000 - 2s - loss: 0.0098 - val_loss: 0.0460\n",
      "Flipped 0.48916666666666675 % of all elements\n",
      "Mean IOU: 0.34357518284199756\n",
      "Mean dist: 0.09924498596425159\n",
      "Mean mse: 0.007131159053672093\n",
      "\n",
      "Epoch 19\n",
      "WARNING:tensorflow:The `nb_epoch` argument in `fit` has been renamed `epochs`.\n",
      "Train on 40000 samples, validate on 10000 samples\n",
      "40000/40000 - 2s - loss: 0.0095 - val_loss: 0.0461\n",
      "Flipped 0.5391666666666667 % of all elements\n",
      "Mean IOU: 0.352563075041005\n",
      "Mean dist: 0.09624292028977034\n",
      "Mean mse: 0.006827712401743659\n",
      "\n"
     ]
    }
   ],
   "source": [
    "num_epochs = 20\n",
    "flipped_train_y = np.array(train_y)\n",
    "flipped = np.zeros((len(flipped_train_y), num_epochs))\n",
    "ious_epoch = np.zeros((len(flipped_train_y), num_epochs))\n",
    "dists_epoch = np.zeros((len(flipped_train_y), num_epochs))\n",
    "mses_epoch = np.zeros((len(flipped_train_y), num_epochs))\n",
    "\n",
    "for epoch in range(num_epochs):\n",
    "    print('Epoch', epoch)\n",
    "    model.fit(train_X, flipped_train_y, nb_epoch=1, validation_data=(test_X, test_y), verbose=2)\n",
    "    pred_y = model.predict(train_X)\n",
    "\n",
    "    for sample, (pred_bboxes, exp_bboxes) in enumerate(zip(pred_y, flipped_train_y)):\n",
    "        \n",
    "        pred_bboxes = pred_bboxes.reshape(num_objects, -1)\n",
    "        exp_bboxes = exp_bboxes.reshape(num_objects, -1)\n",
    "\n",
    "        ious = np.zeros((num_objects, num_objects))\n",
    "        dists = np.zeros((num_objects, num_objects))\n",
    "        mses = np.zeros((num_objects, num_objects))\n",
    "        for i, exp_bbox in enumerate(exp_bboxes):\n",
    "            for j, pred_bbox in enumerate(pred_bboxes):\n",
    "                ious[i, j] = IOU(exp_bbox, pred_bbox)\n",
    "                dists[i, j] = distance(exp_bbox, pred_bbox)\n",
    "                mses[i, j] = np.mean(np.square(exp_bbox - pred_bbox))\n",
    "                \n",
    "        new_order = np.zeros(num_objects, dtype=int)\n",
    "        \n",
    "        for i in range(num_objects):\n",
    "            # Find pred and exp bbox with minimum mse and assign them to each other (i.e. switch the positions of the exp bboxes in y).\n",
    "            ind_exp_bbox, ind_pred_bbox = np.unravel_index(mses.argmin(), mses.shape)\n",
    "            ious_epoch[sample, epoch] += ious[ind_exp_bbox, ind_pred_bbox]\n",
    "            dists_epoch[sample, epoch] += dists[ind_exp_bbox, ind_pred_bbox]\n",
    "            mses_epoch[sample, epoch] += mses[ind_exp_bbox, ind_pred_bbox]\n",
    "            mses[ind_exp_bbox] = 10000000#-1  # set mse of assigned bboxes to a large number, so they don't get assigned again\n",
    "            mses[:, ind_pred_bbox] = 10000000#-1\n",
    "            new_order[ind_pred_bbox] = ind_exp_bbox\n",
    "        \n",
    "        # Write flipped bboxes to training data.\n",
    "        flipped_train_y[sample] = exp_bboxes[new_order].flatten()\n",
    "        \n",
    "        flipped[sample, epoch] = 1. - np.mean(new_order == np.arange(num_objects, dtype=int))#np.array_equal(new_order, np.arange(num_objects, dtype=int))  # TODO: Change this to reflect the number of flips.\n",
    "        ious_epoch[sample, epoch] /= num_objects\n",
    "        dists_epoch[sample, epoch] /= num_objects\n",
    "        mses_epoch[sample, epoch] /= num_objects\n",
    "        \n",
    "            \n",
    "    print('Flipped {} % of all elements'.format(np.mean(flipped[:, epoch]) * 100.))\n",
    "    print('Mean IOU: {}'.format(np.mean(ious_epoch[:, epoch])))\n",
    "    print('Mean dist: {}'.format(np.mean(dists_epoch[:, epoch])))\n",
    "    print('Mean mse: {}'.format(np.mean(mses_epoch[:, epoch])))\n",
    "    print()"
   ]
  },
  {
   "cell_type": "markdown",
   "metadata": {},
   "source": [
    "### Results"
   ]
  },
  {
   "cell_type": "code",
   "execution_count": 11,
   "metadata": {},
   "outputs": [
    {
     "data": {
      "image/png": "[encoded data removed]",
      "text/plain": [
       "<Figure size 432x288 with 1 Axes>"
      ]
     },
     "metadata": {
      "needs_background": "light"
     },
     "output_type": "display_data"
    }
   ],
   "source": [
    "# Show flippings for a few training samples.\n",
    "plt.pcolor(flipped[:300], cmap='Greys', vmax=1.)\n",
    "plt.xlabel('Epoch')\n",
    "plt.ylabel('Training sample')\n",
    "plt.show()"
   ]
  },
  {
   "cell_type": "code",
   "execution_count": 12,
   "metadata": {},
   "outputs": [
    {
     "data": {
      "text/plain": [
       "(0, 1)"
      ]
     },
     "execution_count": 12,
     "metadata": {},
     "output_type": "execute_result"
    },
    {
     "data": {
      "image/png": "[encoded data removed]",
      "text/plain": [
       "<Figure size 432x288 with 1 Axes>"
      ]
     },
     "metadata": {
      "needs_background": "light"
     },
     "output_type": "display_data"
    }
   ],
   "source": [
    "# Plot metrics on the training data. \n",
    "mean_ious_epoch = np.mean(ious_epoch, axis=0)\n",
    "mean_dists_epoch = np.mean(dists_epoch, axis=0)\n",
    "mean_mses_epoch = np.mean(mses_epoch, axis=0)\n",
    "plt.plot(mean_ious_epoch, label='Mean IOU')  # between predicted and assigned true bboxes\n",
    "plt.plot(mean_dists_epoch, label='Mean distance')  # relative to image size\n",
    "plt.plot(mean_mses_epoch, label='Mean mse')\n",
    "plt.annotate(np.round(np.max(mean_ious_epoch), 3), (len(mean_ious_epoch)-1, mean_ious_epoch[-1]+0.03), horizontalalignment='right', color='b')\n",
    "plt.annotate(np.round(np.min(mean_dists_epoch), 3), (len(mean_dists_epoch)-1, mean_dists_epoch[-1]+0.03), horizontalalignment='right', color='g')\n",
    "plt.annotate(np.round(np.min(mean_mses_epoch), 3), (len(mean_mses_epoch)-1, mean_mses_epoch[-1]+0.03), horizontalalignment='right', color='r')\n",
    "plt.xlabel('Epoch')\n",
    "plt.legend()\n",
    "plt.ylim(0, 1)"
   ]
  },
  {
   "cell_type": "code",
   "execution_count": 13,
   "metadata": {},
   "outputs": [
    {
     "data": {
      "text/plain": [
       "(10000, 3, 4)"
      ]
     },
     "execution_count": 13,
     "metadata": {},
     "output_type": "execute_result"
    }
   ],
   "source": [
    "pred_y = model.predict(test_X)\n",
    "pred_bboxes = pred_y * img_size\n",
    "pred_bboxes = pred_bboxes.reshape(len(pred_bboxes), num_objects, -1)\n",
    "pred_bboxes.shape"
   ]
  },
  {
   "cell_type": "code",
   "execution_count": 14,
   "metadata": {},
   "outputs": [
    {
     "data": {
      "image/png": "[encoded data removed]",
      "text/plain": [
       "<Figure size 864x216 with 4 Axes>"
      ]
     },
     "metadata": {
      "needs_background": "light"
     },
     "output_type": "display_data"
    }
   ],
   "source": [
    "plt.figure(figsize=(12, 3))\n",
    "for i_subplot in range(1, 5):\n",
    "    plt.subplot(1, 4, i_subplot)\n",
    "    i = np.random.randint(len(test_X))\n",
    "    plt.imshow(test_imgs[i].T, cmap='Greys', interpolation='none', origin='lower', extent=[0, img_size, 0, img_size])\n",
    "    for pred_bbox, exp_bbox in zip(pred_bboxes[i], test_bboxes[i]):\n",
    "        plt.gca().add_patch(matplotlib.patches.Rectangle((pred_bbox[0], pred_bbox[1]), pred_bbox[2], pred_bbox[3], ec='r', fc='none'))"
   ]
  },
  {
   "cell_type": "code",
   "execution_count": null,
   "metadata": {},
   "outputs": [],
   "source": []
  }
 ],
 "metadata": {
  "kernelspec": {
   "display_name": "Python 3",
   "language": "python",
   "name": "python3"
  },
  "language_info": {
   "codemirror_mode": {
    "name": "ipython",
    "version": 3
   },
   "file_extension": ".py",
   "mimetype": "text/x-python",
   "name": "python",
   "nbconvert_exporter": "python",
   "pygments_lexer": "ipython3",
   "version": "3.7.7"
  }
 },
 "nbformat": 4,
 "nbformat_minor": 4
}
