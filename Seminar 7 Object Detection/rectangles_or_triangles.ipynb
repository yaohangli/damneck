{
 "cells": [
  {
   "cell_type": "markdown",
   "metadata": {},
   "source": [
    "# Object Detection of Rectangles or Triangles\n",
    "Localize the rectangles or triangles, then classify them.\n",
    "\n",
    "The notebook program is modified based on object detection with neural networks — a simple tutorial using keras by Johannes Rieke."
   ]
  },
  {
   "cell_type": "code",
   "execution_count": 1,
   "metadata": {},
   "outputs": [],
   "source": [
    "import numpy as np\n",
    "import matplotlib.pyplot as plt\n",
    "import matplotlib\n",
    "%matplotlib inline"
   ]
  },
  {
   "cell_type": "markdown",
   "metadata": {},
   "source": [
    "### Create images with random rectangles or triangles with bounding boxes. "
   ]
  },
  {
   "cell_type": "code",
   "execution_count": 2,
   "metadata": {},
   "outputs": [
    {
     "data": {
      "text/plain": [
       "((50000, 16, 16), (50000, 2, 4))"
      ]
     },
     "execution_count": 2,
     "metadata": {},
     "output_type": "execute_result"
    }
   ],
   "source": [
    "num_imgs = 50000\n",
    "\n",
    "img_size = 16\n",
    "min_rect_size = 3\n",
    "max_rect_size = 8\n",
    "num_objects = 2\n",
    "\n",
    "bboxes = np.zeros((num_imgs, num_objects, 4))\n",
    "imgs = np.zeros((num_imgs, img_size, img_size))\n",
    "shapes = np.zeros((num_imgs, num_objects, 1))\n",
    "\n",
    "for i_img in range(num_imgs):\n",
    "    for i_object in range(num_objects):\n",
    "        if np.random.choice([True, False]):\n",
    "            width, height = np.random.randint(min_rect_size, max_rect_size, size=2)\n",
    "            x = np.random.randint(0, img_size - width)\n",
    "            y = np.random.randint(0, img_size - height)\n",
    "            imgs[i_img, x:x+width, y:y+height] = 1.\n",
    "            bboxes[i_img, i_object] = [x, y, width, height]\n",
    "            shapes[i_img, i_object] = [0]\n",
    "        else:\n",
    "            size = np.random.randint(min_rect_size, max_rect_size)\n",
    "            x, y = np.random.randint(0, img_size - size, size=2)\n",
    "            mask = np.tril_indices(size)\n",
    "            imgs[i_img, x + mask[0], y + mask[1]] = 1.\n",
    "            bboxes[i_img, i_object] = [x, y, size, size]\n",
    "            shapes[i_img, i_object] = [1]\n",
    "        \n",
    "imgs.shape, bboxes.shape"
   ]
  },
  {
   "cell_type": "code",
   "execution_count": 3,
   "metadata": {},
   "outputs": [
    {
     "data": {
      "text/plain": [
       "((50000, 256), -1.1833811708328313e-16, 0.9999999999999998)"
      ]
     },
     "execution_count": 3,
     "metadata": {},
     "output_type": "execute_result"
    }
   ],
   "source": [
    "X = (imgs.reshape(num_imgs, -1) - np.mean(imgs)) / np.std(imgs)\n",
    "X.shape, np.mean(X), np.std(X)"
   ]
  },
  {
   "cell_type": "code",
   "execution_count": 4,
   "metadata": {},
   "outputs": [
    {
     "data": {
      "text/plain": [
       "(50000, 10)"
      ]
     },
     "execution_count": 4,
     "metadata": {},
     "output_type": "execute_result"
    }
   ],
   "source": [
    "# TODO: We use binary classification here - for multiple classes, convert classes to one-hot vectors.\n",
    "y = np.concatenate([bboxes / img_size, shapes], axis=-1).reshape(num_imgs, -1)\n",
    "y.shape"
   ]
  },
  {
   "cell_type": "markdown",
   "metadata": {},
   "source": [
    "### Model Input and Output\n",
    "Input: normalized image\n",
    "Output: bounding box (bx1, by1, bw1, bh1, c1, bx2, by2, bw2, bh2, c2)"
   ]
  },
  {
   "cell_type": "code",
   "execution_count": 5,
   "metadata": {},
   "outputs": [],
   "source": [
    "i = int(0.8 * num_imgs)\n",
    "train_X = X[:i]\n",
    "test_X = X[i:]\n",
    "train_y = y[:i]\n",
    "test_y = y[i:]\n",
    "test_imgs = imgs[i:]\n",
    "test_bboxes = bboxes[i:]"
   ]
  },
  {
   "cell_type": "code",
   "execution_count": 6,
   "metadata": {},
   "outputs": [
    {
     "data": {
      "image/png": "[encoded data removed]",
      "text/plain": [
       "<Figure size 864x216 with 6 Axes>"
      ]
     },
     "metadata": {
      "needs_background": "light"
     },
     "output_type": "display_data"
    }
   ],
   "source": [
    "# i = 0\n",
    "# # TODO: Why does the array have to be transposed?\n",
    "# plt.imshow(imgs[i].T, cmap='Greys', interpolation='none', origin='lower', extent=[0, img_size, 0, img_size])\n",
    "# for bbox, shape in zip(bboxes[i], shapes[i]):\n",
    "#     plt.gca().add_patch(matplotlib.patches.Rectangle((bbox[0], bbox[1]), bbox[2], bbox[3], ec='r' if shape[0] == 0 else 'y', fc='none'))\n",
    "#     if shape[i] == 0:\n",
    "#         plt.annotate('rectangle', (bbox[0], bbox[1]+bbox[3]+0.2), color='r')\n",
    "#     else:\n",
    "#         plt.annotate('triangle', (bbox[0], bbox[1]+bbox[3]+0.2), color='y')\n",
    "plt.figure(figsize=(12, 3))\n",
    "for i in range(1, 7):\n",
    "    plt.subplot(1, 6, i)\n",
    "    plt.imshow(imgs[i].T, cmap='Greys', interpolation='none', origin='lower', extent=[0, img_size, 0, img_size])\n",
    "plt.show()"
   ]
  },
  {
   "cell_type": "code",
   "execution_count": 7,
   "metadata": {},
   "outputs": [],
   "source": [
    "# # i = 0\n",
    "# # # TODO: Why does the array have to be transposed?\n",
    "# # plt.imshow(imgs[i].T, cmap='Greys', interpolation='none', origin='lower', extent=[0, img_size, 0, img_size])\n",
    "# # for bbox, shape in zip(bboxes[i], shapes[i]):\n",
    "# #     plt.gca().add_patch(matplotlib.patches.Rectangle((bbox[0], bbox[1]), bbox[2], bbox[3], ec='r' if shape[0] == 0 else 'y', fc='none'))\n",
    "\n",
    "# plt.figure(figsize=(12, 3))\n",
    "# for i_subplot in range(1, 5):\n",
    "#     plt.subplot(1, 4, i_subplot)\n",
    "#     i = np.random.randint(len(test_X))\n",
    "#     plt.imshow(test_imgs[i].T, cmap='Greys', interpolation='none', origin='lower', extent=[0, img_size, 0, img_size])\n",
    "#     for bbox in bboxes[i]:\n",
    "#         plt.gca().add_patch(matplotlib.patches.Rectangle((bbox[0], bbox[1]), bbox[2], bbox[3], ec='r', fc='none'))"
   ]
  },
  {
   "cell_type": "markdown",
   "metadata": {},
   "source": [
    "### Build the model."
   ]
  },
  {
   "cell_type": "code",
   "execution_count": 8,
   "metadata": {},
   "outputs": [],
   "source": [
    "from tensorflow.keras.models import Sequential\n",
    "from tensorflow.keras.layers import Dense, Activation, Dropout\n",
    "from tensorflow.keras.optimizers import Adam\n",
    "model = Sequential([\n",
    "        Dense(256, input_dim=X.shape[-1]), \n",
    "        Activation('relu'), \n",
    "        Dropout(0.4), \n",
    "        Dense(y.shape[-1])\n",
    "    ])\n",
    "model.compile(Adam(0.0002, beta_1=0.5), 'mse')"
   ]
  },
  {
   "cell_type": "code",
   "execution_count": 9,
   "metadata": {},
   "outputs": [],
   "source": [
    "# Note: The validation loss is always quite big here because we don't flip the bounding boxes for the validation data. \n",
    "def IOU(bbox1, bbox2):\n",
    "    '''Calculate overlap between two bounding boxes [x, y, w, h] as the area of intersection over the area of unity'''\n",
    "    x1, y1, w1, h1 = bbox1[0], bbox1[1], bbox1[2], bbox1[3]  # TODO: Check if its more performant if tensor elements are accessed directly below.\n",
    "    x2, y2, w2, h2 = bbox2[0], bbox2[1], bbox2[2], bbox2[3]\n",
    "\n",
    "    w_I = min(x1 + w1, x2 + w2) - max(x1, x2)\n",
    "    h_I = min(y1 + h1, y2 + h2) - max(y1, y2)\n",
    "    w_I = max(w_I, 0)  # set w_I and h_I zero if there is no intersection\n",
    "    h_I = max(h_I, 0)\n",
    "    I = w_I * h_I\n",
    "\n",
    "    U = w1 * h1 + w2 * h2 - I\n",
    "\n",
    "    return I / U\n",
    "\n",
    "def distance(bbox1, bbox2):\n",
    "    return np.sqrt(np.sum(np.square(bbox1[:2] - bbox2[:2])))"
   ]
  },
  {
   "cell_type": "markdown",
   "metadata": {},
   "source": [
    "### Training with Flipping"
   ]
  },
  {
   "cell_type": "code",
   "execution_count": 10,
   "metadata": {},
   "outputs": [
    {
     "name": "stdout",
     "output_type": "stream",
     "text": [
      "Epoch 0\n",
      "WARNING:tensorflow:The `nb_epoch` argument in `fit` has been renamed `epochs`.\n",
      "Train on 40000 samples, validate on 10000 samples\n",
      "40000/40000 - 3s - loss: 0.2253 - val_loss: 0.0672\n",
      "Flipped 19624.0 training samples (49.059999999999995 %)\n",
      "Mean IOU: 0.176416254049187\n",
      "Mean dist: 0.2138982646936504\n",
      "\n",
      "Epoch 1\n",
      "WARNING:tensorflow:The `nb_epoch` argument in `fit` has been renamed `epochs`.\n",
      "Train on 40000 samples, validate on 10000 samples\n",
      "40000/40000 - 2s - loss: 0.0660 - val_loss: 0.0585\n",
      "Flipped 6639.0 training samples (16.5975 %)\n",
      "Mean IOU: 0.2200551953311205\n",
      "Mean dist: 0.19932399480983093\n",
      "\n",
      "Epoch 2\n",
      "WARNING:tensorflow:The `nb_epoch` argument in `fit` has been renamed `epochs`.\n",
      "Train on 40000 samples, validate on 10000 samples\n",
      "40000/40000 - 2s - loss: 0.0540 - val_loss: 0.0556\n",
      "Flipped 5650.0 training samples (14.124999999999998 %)\n",
      "Mean IOU: 0.24761252109701576\n",
      "Mean dist: 0.1903020385033601\n",
      "\n",
      "Epoch 3\n",
      "WARNING:tensorflow:The `nb_epoch` argument in `fit` has been renamed `epochs`.\n",
      "Train on 40000 samples, validate on 10000 samples\n",
      "40000/40000 - 2s - loss: 0.0471 - val_loss: 0.0546\n",
      "Flipped 5050.0 training samples (12.625 %)\n",
      "Mean IOU: 0.27287609412005726\n",
      "Mean dist: 0.1802566411658928\n",
      "\n",
      "Epoch 4\n",
      "WARNING:tensorflow:The `nb_epoch` argument in `fit` has been renamed `epochs`.\n",
      "Train on 40000 samples, validate on 10000 samples\n",
      "40000/40000 - 2s - loss: 0.0422 - val_loss: 0.0542\n",
      "Flipped 4046.0 training samples (10.115 %)\n",
      "Mean IOU: 0.2888413778246432\n",
      "Mean dist: 0.17178375003582338\n",
      "\n",
      "Epoch 5\n",
      "WARNING:tensorflow:The `nb_epoch` argument in `fit` has been renamed `epochs`.\n",
      "Train on 40000 samples, validate on 10000 samples\n",
      "40000/40000 - 2s - loss: 0.0386 - val_loss: 0.0538\n",
      "Flipped 3178.0 training samples (7.945 %)\n",
      "Mean IOU: 0.31132610247746934\n",
      "Mean dist: 0.16184391825527056\n",
      "\n",
      "Epoch 6\n",
      "WARNING:tensorflow:The `nb_epoch` argument in `fit` has been renamed `epochs`.\n",
      "Train on 40000 samples, validate on 10000 samples\n",
      "40000/40000 - 2s - loss: 0.0359 - val_loss: 0.0544\n",
      "Flipped 2420.0 training samples (6.05 %)\n",
      "Mean IOU: 0.32699463817935137\n",
      "Mean dist: 0.15537807612198695\n",
      "\n",
      "Epoch 7\n",
      "WARNING:tensorflow:The `nb_epoch` argument in `fit` has been renamed `epochs`.\n",
      "Train on 40000 samples, validate on 10000 samples\n",
      "40000/40000 - 2s - loss: 0.0339 - val_loss: 0.0546\n",
      "Flipped 2006.0 training samples (5.015 %)\n",
      "Mean IOU: 0.3453822952931128\n",
      "Mean dist: 0.14848012961250798\n",
      "\n",
      "Epoch 8\n",
      "WARNING:tensorflow:The `nb_epoch` argument in `fit` has been renamed `epochs`.\n",
      "Train on 40000 samples, validate on 10000 samples\n",
      "40000/40000 - 2s - loss: 0.0322 - val_loss: 0.0544\n",
      "Flipped 1824.0 training samples (4.5600000000000005 %)\n",
      "Mean IOU: 0.3582390550307645\n",
      "Mean dist: 0.14238992312407658\n",
      "\n",
      "Epoch 9\n",
      "WARNING:tensorflow:The `nb_epoch` argument in `fit` has been renamed `epochs`.\n",
      "Train on 40000 samples, validate on 10000 samples\n",
      "40000/40000 - 2s - loss: 0.0308 - val_loss: 0.0551\n",
      "Flipped 1673.0 training samples (4.1825 %)\n",
      "Mean IOU: 0.37459661590884924\n",
      "Mean dist: 0.13642455142914373\n",
      "\n",
      "Epoch 10\n",
      "WARNING:tensorflow:The `nb_epoch` argument in `fit` has been renamed `epochs`.\n",
      "Train on 40000 samples, validate on 10000 samples\n",
      "40000/40000 - 3s - loss: 0.0295 - val_loss: 0.0552\n",
      "Flipped 1482.0 training samples (3.705 %)\n",
      "Mean IOU: 0.38618300437672093\n",
      "Mean dist: 0.1319704737641095\n",
      "\n",
      "Epoch 11\n",
      "WARNING:tensorflow:The `nb_epoch` argument in `fit` has been renamed `epochs`.\n",
      "Train on 40000 samples, validate on 10000 samples\n",
      "40000/40000 - 3s - loss: 0.0282 - val_loss: 0.0552\n",
      "Flipped 1336.0 training samples (3.34 %)\n",
      "Mean IOU: 0.39580565771615184\n",
      "Mean dist: 0.12698091682293097\n",
      "\n",
      "Epoch 12\n",
      "WARNING:tensorflow:The `nb_epoch` argument in `fit` has been renamed `epochs`.\n",
      "Train on 40000 samples, validate on 10000 samples\n",
      "40000/40000 - 3s - loss: 0.0274 - val_loss: 0.0553\n",
      "Flipped 1309.0 training samples (3.2724999999999995 %)\n",
      "Mean IOU: 0.41403576487782556\n",
      "Mean dist: 0.12155302298606477\n",
      "\n",
      "Epoch 13\n",
      "WARNING:tensorflow:The `nb_epoch` argument in `fit` has been renamed `epochs`.\n",
      "Train on 40000 samples, validate on 10000 samples\n",
      "40000/40000 - 3s - loss: 0.0265 - val_loss: 0.0560\n",
      "Flipped 1137.0 training samples (2.8425 %)\n",
      "Mean IOU: 0.41945856557148836\n",
      "Mean dist: 0.11914848794270633\n",
      "\n",
      "Epoch 14\n",
      "WARNING:tensorflow:The `nb_epoch` argument in `fit` has been renamed `epochs`.\n",
      "Train on 40000 samples, validate on 10000 samples\n",
      "40000/40000 - 2s - loss: 0.0257 - val_loss: 0.0560\n",
      "Flipped 1073.0 training samples (2.6825 %)\n",
      "Mean IOU: 0.4261458771805468\n",
      "Mean dist: 0.11616536371944526\n",
      "\n",
      "Epoch 15\n",
      "WARNING:tensorflow:The `nb_epoch` argument in `fit` has been renamed `epochs`.\n",
      "Train on 40000 samples, validate on 10000 samples\n",
      "40000/40000 - 2s - loss: 0.0250 - val_loss: 0.0568\n",
      "Flipped 1104.0 training samples (2.76 %)\n",
      "Mean IOU: 0.430615819790728\n",
      "Mean dist: 0.11511632989561567\n",
      "\n",
      "Epoch 16\n",
      "WARNING:tensorflow:The `nb_epoch` argument in `fit` has been renamed `epochs`.\n",
      "Train on 40000 samples, validate on 10000 samples\n",
      "40000/40000 - 2s - loss: 0.0244 - val_loss: 0.0571\n",
      "Flipped 1011.0 training samples (2.5275 %)\n",
      "Mean IOU: 0.4364309388193591\n",
      "Mean dist: 0.1124005028236653\n",
      "\n",
      "Epoch 17\n",
      "WARNING:tensorflow:The `nb_epoch` argument in `fit` has been renamed `epochs`.\n",
      "Train on 40000 samples, validate on 10000 samples\n",
      "40000/40000 - 2s - loss: 0.0239 - val_loss: 0.0570\n",
      "Flipped 910.0 training samples (2.275 %)\n",
      "Mean IOU: 0.4419873001778447\n",
      "Mean dist: 0.111180200089963\n",
      "\n",
      "Epoch 18\n",
      "WARNING:tensorflow:The `nb_epoch` argument in `fit` has been renamed `epochs`.\n",
      "Train on 40000 samples, validate on 10000 samples\n",
      "40000/40000 - 2s - loss: 0.0234 - val_loss: 0.0576\n",
      "Flipped 963.0 training samples (2.4074999999999998 %)\n",
      "Mean IOU: 0.4456756601013216\n",
      "Mean dist: 0.10920543712483263\n",
      "\n",
      "Epoch 19\n",
      "WARNING:tensorflow:The `nb_epoch` argument in `fit` has been renamed `epochs`.\n",
      "Train on 40000 samples, validate on 10000 samples\n",
      "40000/40000 - 2s - loss: 0.0230 - val_loss: 0.0575\n",
      "Flipped 964.0 training samples (2.41 %)\n",
      "Mean IOU: 0.4474014551049797\n",
      "Mean dist: 0.10837823081101315\n",
      "\n",
      "Epoch 20\n",
      "WARNING:tensorflow:The `nb_epoch` argument in `fit` has been renamed `epochs`.\n",
      "Train on 40000 samples, validate on 10000 samples\n",
      "40000/40000 - 2s - loss: 0.0226 - val_loss: 0.0576\n",
      "Flipped 1137.0 training samples (2.8425 %)\n",
      "Mean IOU: 0.4551493113250149\n",
      "Mean dist: 0.10702721059594462\n",
      "\n",
      "Epoch 21\n",
      "WARNING:tensorflow:The `nb_epoch` argument in `fit` has been renamed `epochs`.\n",
      "Train on 40000 samples, validate on 10000 samples\n",
      "40000/40000 - 2s - loss: 0.0222 - val_loss: 0.0579\n",
      "Flipped 855.0 training samples (2.1375 %)\n",
      "Mean IOU: 0.45521987459158975\n",
      "Mean dist: 0.10644559218714023\n",
      "\n",
      "Epoch 22\n",
      "WARNING:tensorflow:The `nb_epoch` argument in `fit` has been renamed `epochs`.\n",
      "Train on 40000 samples, validate on 10000 samples\n",
      "40000/40000 - 2s - loss: 0.0219 - val_loss: 0.0582\n",
      "Flipped 835.0 training samples (2.0875 %)\n",
      "Mean IOU: 0.4601328179674995\n",
      "Mean dist: 0.10430730784574266\n",
      "\n",
      "Epoch 23\n",
      "WARNING:tensorflow:The `nb_epoch` argument in `fit` has been renamed `epochs`.\n",
      "Train on 40000 samples, validate on 10000 samples\n",
      "40000/40000 - 2s - loss: 0.0217 - val_loss: 0.0584\n",
      "Flipped 865.0 training samples (2.1624999999999996 %)\n",
      "Mean IOU: 0.461940075274791\n",
      "Mean dist: 0.10355785536785336\n",
      "\n",
      "Epoch 24\n",
      "WARNING:tensorflow:The `nb_epoch` argument in `fit` has been renamed `epochs`.\n",
      "Train on 40000 samples, validate on 10000 samples\n",
      "40000/40000 - 2s - loss: 0.0213 - val_loss: 0.0578\n",
      "Flipped 871.0 training samples (2.1774999999999998 %)\n",
      "Mean IOU: 0.469005427051802\n",
      "Mean dist: 0.1016135858780905\n",
      "\n",
      "Epoch 25\n",
      "WARNING:tensorflow:The `nb_epoch` argument in `fit` has been renamed `epochs`.\n",
      "Train on 40000 samples, validate on 10000 samples\n",
      "40000/40000 - 2s - loss: 0.0211 - val_loss: 0.0582\n",
      "Flipped 673.0 training samples (1.6824999999999999 %)\n",
      "Mean IOU: 0.4712065201236843\n",
      "Mean dist: 0.10110216105579832\n",
      "\n",
      "Epoch 26\n",
      "WARNING:tensorflow:The `nb_epoch` argument in `fit` has been renamed `epochs`.\n",
      "Train on 40000 samples, validate on 10000 samples\n",
      "40000/40000 - 2s - loss: 0.0209 - val_loss: 0.0580\n",
      "Flipped 741.0 training samples (1.8525 %)\n",
      "Mean IOU: 0.46955259346298\n",
      "Mean dist: 0.10086634071461716\n",
      "\n",
      "Epoch 27\n",
      "WARNING:tensorflow:The `nb_epoch` argument in `fit` has been renamed `epochs`.\n",
      "Train on 40000 samples, validate on 10000 samples\n",
      "40000/40000 - 2s - loss: 0.0206 - val_loss: 0.0586\n",
      "Flipped 744.0 training samples (1.8599999999999999 %)\n",
      "Mean IOU: 0.4722306304542474\n",
      "Mean dist: 0.0998129769005489\n",
      "\n",
      "Epoch 28\n",
      "WARNING:tensorflow:The `nb_epoch` argument in `fit` has been renamed `epochs`.\n"
     ]
    },
    {
     "name": "stdout",
     "output_type": "stream",
     "text": [
      "Train on 40000 samples, validate on 10000 samples\n",
      "40000/40000 - 2s - loss: 0.0205 - val_loss: 0.0586\n",
      "Flipped 691.0 training samples (1.7274999999999998 %)\n",
      "Mean IOU: 0.47691030350856944\n",
      "Mean dist: 0.09905210940371519\n",
      "\n",
      "Epoch 29\n",
      "WARNING:tensorflow:The `nb_epoch` argument in `fit` has been renamed `epochs`.\n",
      "Train on 40000 samples, validate on 10000 samples\n",
      "40000/40000 - 2s - loss: 0.0203 - val_loss: 0.0589\n",
      "Flipped 778.0 training samples (1.9449999999999998 %)\n",
      "Mean IOU: 0.4738531277695326\n",
      "Mean dist: 0.09963677317557272\n",
      "\n"
     ]
    }
   ],
   "source": [
    "num_epochs = 30\n",
    "flipped_train_y = np.array(train_y)\n",
    "flipped = np.zeros((len(flipped_train_y), num_epochs))\n",
    "ious = np.zeros((len(flipped_train_y), num_epochs))\n",
    "dists = np.zeros((len(flipped_train_y), num_epochs))\n",
    "\n",
    "for epoch in range(num_epochs):\n",
    "    print('Epoch', epoch)\n",
    "    model.fit(train_X, flipped_train_y, nb_epoch=1, validation_data=(test_X, test_y), verbose=2)\n",
    "    pred_y = model.predict(train_X)\n",
    "\n",
    "    for i, (pred_bboxes, exp_bboxes) in enumerate(zip(pred_y, flipped_train_y)):\n",
    "        \n",
    "        flipped_exp_bboxes = np.concatenate([exp_bboxes[5:], exp_bboxes[:5]])\n",
    "        \n",
    "        mse = np.mean(np.square(pred_bboxes - exp_bboxes))\n",
    "        mse_flipped = np.mean(np.square(pred_bboxes - flipped_exp_bboxes))\n",
    "        \n",
    "#         iou = IOU(pred_bboxes[:4], exp_bboxes[:4]) + IOU(pred_bboxes[4:], exp_bboxes[4:])\n",
    "#         iou_flipped = IOU(pred_bboxes[:4], flipped_exp_bboxes[:4]) + IOU(pred_bboxes[4:], flipped_exp_bboxes[4:])\n",
    "        \n",
    "#         dist = distance(pred_bboxes[:4], exp_bboxes[:4]) + IOU(pred_bboxes[4:], exp_bboxes[4:])\n",
    "#         dist_flipped = distance(pred_bboxes[:4], flipped_exp_bboxes[:4]) + IOU(pred_bboxes[4:], flipped_exp_bboxes[4:])\n",
    "\n",
    "        iou = IOU(pred_bboxes[:5], exp_bboxes[:5]) + IOU(pred_bboxes[5:], exp_bboxes[5:])\n",
    "        iou_flipped = IOU(pred_bboxes[:5], flipped_exp_bboxes[:5]) + IOU(pred_bboxes[5:], flipped_exp_bboxes[5:])\n",
    "        \n",
    "        dist = distance(pred_bboxes[:5], exp_bboxes[:5]) + distance(pred_bboxes[5:], exp_bboxes[5:])\n",
    "        dist_flipped = distance(pred_bboxes[:5], flipped_exp_bboxes[:5]) + distance(pred_bboxes[5:], flipped_exp_bboxes[5:])\n",
    "        \n",
    "        if mse_flipped < mse:  # using iou or dist here leads to similar results\n",
    "            flipped_train_y[i] = flipped_exp_bboxes\n",
    "            flipped[i, epoch] = 1\n",
    "            ious[i, epoch] = iou_flipped / 2.\n",
    "            dists[i, epoch] = dist_flipped / 2.\n",
    "        else:\n",
    "            ious[i, epoch] = iou / 2.\n",
    "            dists[i, epoch] = dist / 2.\n",
    "            \n",
    "    print('Flipped {} training samples ({} %)'.format(np.sum(flipped[:, epoch]), np.mean(flipped[:, epoch]) * 100.))\n",
    "    print('Mean IOU: {}'.format(np.mean(ious[:, epoch])))\n",
    "    print('Mean dist: {}'.format(np.mean(dists[:, epoch])))\n",
    "    print()"
   ]
  },
  {
   "cell_type": "markdown",
   "metadata": {},
   "source": [
    "### Results"
   ]
  },
  {
   "cell_type": "code",
   "execution_count": 11,
   "metadata": {},
   "outputs": [
    {
     "data": {
      "text/plain": [
       "Text(0, 0.5, 'Training sample')"
      ]
     },
     "execution_count": 11,
     "metadata": {},
     "output_type": "execute_result"
    },
    {
     "data": {
      "image/png": "[encoded data removed]",
      "text/plain": [
       "<Figure size 432x288 with 1 Axes>"
      ]
     },
     "metadata": {
      "needs_background": "light"
     },
     "output_type": "display_data"
    }
   ],
   "source": [
    "plt.pcolor(flipped[:1000], cmap='Greys')\n",
    "plt.xlabel('Epoch')\n",
    "plt.ylabel('Training sample')"
   ]
  },
  {
   "cell_type": "code",
   "execution_count": 12,
   "metadata": {},
   "outputs": [
    {
     "data": {
      "text/plain": [
       "(0, 1)"
      ]
     },
     "execution_count": 12,
     "metadata": {},
     "output_type": "execute_result"
    },
    {
     "data": {
      "image/png": "[encoded data removed]",
      "text/plain": [
       "<Figure size 432x288 with 1 Axes>"
      ]
     },
     "metadata": {
      "needs_background": "light"
     },
     "output_type": "display_data"
    }
   ],
   "source": [
    "plt.plot(np.mean(ious, axis=0), label='Mean IOU')  # between predicted and assigned true bboxes\n",
    "plt.plot(np.mean(dists, axis=0), label='Mean distance')  # relative to image size\n",
    "plt.legend()\n",
    "plt.ylim(0, 1)"
   ]
  },
  {
   "cell_type": "code",
   "execution_count": 13,
   "metadata": {},
   "outputs": [
    {
     "data": {
      "text/plain": [
       "((10000, 2, 4), (10000, 2, 1))"
      ]
     },
     "execution_count": 13,
     "metadata": {},
     "output_type": "execute_result"
    }
   ],
   "source": [
    "pred_y = model.predict(test_X)\n",
    "pred_y = pred_y.reshape(len(pred_y), num_objects, -1)\n",
    "pred_bboxes = pred_y[..., :4] * img_size\n",
    "pred_shapes = pred_y[..., 4:5]\n",
    "pred_bboxes.shape, pred_shapes.shape"
   ]
  },
  {
   "cell_type": "code",
   "execution_count": 14,
   "metadata": {},
   "outputs": [
    {
     "data": {
      "image/png": "[encoded data removed]",
      "text/plain": [
       "<Figure size 1152x576 with 4 Axes>"
      ]
     },
     "metadata": {
      "needs_background": "light"
     },
     "output_type": "display_data"
    }
   ],
   "source": [
    "plt.figure(figsize=(16, 8))\n",
    "for i_subplot in range(1, 5):\n",
    "    plt.subplot(1, 4, i_subplot)\n",
    "    i = np.random.randint(len(test_X))\n",
    "    plt.imshow(test_imgs[i].T, cmap='Greys', interpolation='none', origin='lower', extent=[0, img_size, 0, img_size])\n",
    "    for pred_bbox, exp_bbox, pred_shape in zip(pred_bboxes[i], test_bboxes[i], pred_shapes[i]):\n",
    "        plt.gca().add_patch(matplotlib.patches.Rectangle((pred_bbox[0], pred_bbox[1]), pred_bbox[2], pred_bbox[3], ec='r' if pred_shape[0] <= 0.5 else 'y', fc='none'))\n",
    "        # TODO: Calculate max IOU with all expected bounding boxes.\n",
    "#         plt.annotate('IOU: {:.2f}'.format(IOU(pred_bbox, exp_bbox)), (pred_bbox[0], pred_bbox[1]+pred_bbox[3]+0.4), color='r')\n",
    "        if pred_shape[0] <0.5:\n",
    "            plt.annotate('rectangle', (pred_bbox[0], pred_bbox[1]+pred_bbox[3]+0.2), color='r')\n",
    "        else:\n",
    "            plt.annotate('triangle', (pred_bbox[0], pred_bbox[1]+pred_bbox[3]+0.2), color='y')\n",
    "# plt.savefig('plots/bw-two-rectangles-or-triangles4.png', dpi=300)"
   ]
  }
 ],
 "metadata": {
  "kernelspec": {
   "display_name": "Python 3",
   "language": "python",
   "name": "python3"
  },
  "language_info": {
   "codemirror_mode": {
    "name": "ipython",
    "version": 3
   },
   "file_extension": ".py",
   "mimetype": "text/x-python",
   "name": "python",
   "nbconvert_exporter": "python",
   "pygments_lexer": "ipython3",
   "version": "3.7.7"
  }
 },
 "nbformat": 4,
 "nbformat_minor": 4
}
